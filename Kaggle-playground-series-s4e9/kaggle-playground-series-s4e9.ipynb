{
 "cells": [
  {
   "cell_type": "markdown",
   "metadata": {},
   "source": [
    "# Kaggle Playground Series S4E9 Competition\n",
    "\n",
    "Walter Reade, Ashley Chow. (2024). Regression of Used Car Prices. Kaggle. https://kaggle.com/competitions/playground-series-s4e9"
   ]
  },
  {
   "cell_type": "markdown",
   "metadata": {},
   "source": [
    "## IMPORTS AND SETUP"
   ]
  },
  {
   "cell_type": "code",
   "execution_count": 1,
   "metadata": {
    "execution": {
     "iopub.execute_input": "2024-09-19T14:04:50.937645Z",
     "iopub.status.busy": "2024-09-19T14:04:50.937488Z",
     "iopub.status.idle": "2024-09-19T14:04:51.843488Z",
     "shell.execute_reply": "2024-09-19T14:04:51.842891Z",
     "shell.execute_reply.started": "2024-09-19T14:04:50.937622Z"
    }
   },
   "outputs": [],
   "source": [
    "# Imports:\n",
    "import pandas as pd\n",
    "import numpy as np\n",
    "import matplotlib.pyplot as plt\n",
    "import seaborn as sns\n",
    "import warnings\n",
    "\n",
    "# Ignore harmless warnings\n",
    "warnings.filterwarnings('ignore')\n",
    "\n",
    "# Plot rcParams:\n",
    "plt.rcParams['figure.figsize'] = (15, 7)\n",
    "plt.rcParams['figure.dpi'] = 120\n",
    "plt.rcParams['figure.titlesize'] = 22\n",
    "plt.rcParams['figure.titleweight'] = 'bold'\n",
    "plt.rcParams['axes.titlesize'] = 22\n",
    "plt.rcParams['axes.titleweight'] = 'bold'\n",
    "plt.style.use('ggplot')"
   ]
  },
  {
   "cell_type": "markdown",
   "metadata": {},
   "source": [
    "## DATA READ"
   ]
  },
  {
   "cell_type": "code",
   "execution_count": 2,
   "metadata": {
    "execution": {
     "iopub.execute_input": "2024-09-19T14:04:51.844384Z",
     "iopub.status.busy": "2024-09-19T14:04:51.844146Z",
     "iopub.status.idle": "2024-09-19T14:04:52.273094Z",
     "shell.execute_reply": "2024-09-19T14:04:52.271546Z",
     "shell.execute_reply.started": "2024-09-19T14:04:51.844368Z"
    }
   },
   "outputs": [
    {
     "data": {
      "text/html": [
       "<div>\n",
       "<style scoped>\n",
       "    .dataframe tbody tr th:only-of-type {\n",
       "        vertical-align: middle;\n",
       "    }\n",
       "\n",
       "    .dataframe tbody tr th {\n",
       "        vertical-align: top;\n",
       "    }\n",
       "\n",
       "    .dataframe thead th {\n",
       "        text-align: right;\n",
       "    }\n",
       "</style>\n",
       "<table border=\"1\" class=\"dataframe\">\n",
       "  <thead>\n",
       "    <tr style=\"text-align: right;\">\n",
       "      <th></th>\n",
       "      <th>id</th>\n",
       "      <th>brand</th>\n",
       "      <th>model</th>\n",
       "      <th>model_year</th>\n",
       "      <th>milage</th>\n",
       "      <th>fuel_type</th>\n",
       "      <th>engine</th>\n",
       "      <th>transmission</th>\n",
       "      <th>ext_col</th>\n",
       "      <th>int_col</th>\n",
       "      <th>accident</th>\n",
       "      <th>clean_title</th>\n",
       "      <th>price</th>\n",
       "    </tr>\n",
       "  </thead>\n",
       "  <tbody>\n",
       "    <tr>\n",
       "      <th>0</th>\n",
       "      <td>0</td>\n",
       "      <td>MINI</td>\n",
       "      <td>Cooper S Base</td>\n",
       "      <td>2007</td>\n",
       "      <td>213000</td>\n",
       "      <td>Gasoline</td>\n",
       "      <td>172.0HP 1.6L 4 Cylinder Engine Gasoline Fuel</td>\n",
       "      <td>A/T</td>\n",
       "      <td>Yellow</td>\n",
       "      <td>Gray</td>\n",
       "      <td>None reported</td>\n",
       "      <td>Yes</td>\n",
       "      <td>4200</td>\n",
       "    </tr>\n",
       "    <tr>\n",
       "      <th>1</th>\n",
       "      <td>1</td>\n",
       "      <td>Lincoln</td>\n",
       "      <td>LS V8</td>\n",
       "      <td>2002</td>\n",
       "      <td>143250</td>\n",
       "      <td>Gasoline</td>\n",
       "      <td>252.0HP 3.9L 8 Cylinder Engine Gasoline Fuel</td>\n",
       "      <td>A/T</td>\n",
       "      <td>Silver</td>\n",
       "      <td>Beige</td>\n",
       "      <td>At least 1 accident or damage reported</td>\n",
       "      <td>Yes</td>\n",
       "      <td>4999</td>\n",
       "    </tr>\n",
       "    <tr>\n",
       "      <th>2</th>\n",
       "      <td>2</td>\n",
       "      <td>Chevrolet</td>\n",
       "      <td>Silverado 2500 LT</td>\n",
       "      <td>2002</td>\n",
       "      <td>136731</td>\n",
       "      <td>E85 Flex Fuel</td>\n",
       "      <td>320.0HP 5.3L 8 Cylinder Engine Flex Fuel Capab...</td>\n",
       "      <td>A/T</td>\n",
       "      <td>Blue</td>\n",
       "      <td>Gray</td>\n",
       "      <td>None reported</td>\n",
       "      <td>Yes</td>\n",
       "      <td>13900</td>\n",
       "    </tr>\n",
       "    <tr>\n",
       "      <th>3</th>\n",
       "      <td>3</td>\n",
       "      <td>Genesis</td>\n",
       "      <td>G90 5.0 Ultimate</td>\n",
       "      <td>2017</td>\n",
       "      <td>19500</td>\n",
       "      <td>Gasoline</td>\n",
       "      <td>420.0HP 5.0L 8 Cylinder Engine Gasoline Fuel</td>\n",
       "      <td>Transmission w/Dual Shift Mode</td>\n",
       "      <td>Black</td>\n",
       "      <td>Black</td>\n",
       "      <td>None reported</td>\n",
       "      <td>Yes</td>\n",
       "      <td>45000</td>\n",
       "    </tr>\n",
       "    <tr>\n",
       "      <th>4</th>\n",
       "      <td>4</td>\n",
       "      <td>Mercedes-Benz</td>\n",
       "      <td>Metris Base</td>\n",
       "      <td>2021</td>\n",
       "      <td>7388</td>\n",
       "      <td>Gasoline</td>\n",
       "      <td>208.0HP 2.0L 4 Cylinder Engine Gasoline Fuel</td>\n",
       "      <td>7-Speed A/T</td>\n",
       "      <td>Black</td>\n",
       "      <td>Beige</td>\n",
       "      <td>None reported</td>\n",
       "      <td>Yes</td>\n",
       "      <td>97500</td>\n",
       "    </tr>\n",
       "  </tbody>\n",
       "</table>\n",
       "</div>"
      ],
      "text/plain": [
       "   id          brand              model  model_year  milage      fuel_type  \\\n",
       "0   0           MINI      Cooper S Base        2007  213000       Gasoline   \n",
       "1   1        Lincoln              LS V8        2002  143250       Gasoline   \n",
       "2   2      Chevrolet  Silverado 2500 LT        2002  136731  E85 Flex Fuel   \n",
       "3   3        Genesis   G90 5.0 Ultimate        2017   19500       Gasoline   \n",
       "4   4  Mercedes-Benz        Metris Base        2021    7388       Gasoline   \n",
       "\n",
       "                                              engine  \\\n",
       "0       172.0HP 1.6L 4 Cylinder Engine Gasoline Fuel   \n",
       "1       252.0HP 3.9L 8 Cylinder Engine Gasoline Fuel   \n",
       "2  320.0HP 5.3L 8 Cylinder Engine Flex Fuel Capab...   \n",
       "3       420.0HP 5.0L 8 Cylinder Engine Gasoline Fuel   \n",
       "4       208.0HP 2.0L 4 Cylinder Engine Gasoline Fuel   \n",
       "\n",
       "                     transmission ext_col int_col  \\\n",
       "0                             A/T  Yellow    Gray   \n",
       "1                             A/T  Silver   Beige   \n",
       "2                             A/T    Blue    Gray   \n",
       "3  Transmission w/Dual Shift Mode   Black   Black   \n",
       "4                     7-Speed A/T   Black   Beige   \n",
       "\n",
       "                                 accident clean_title  price  \n",
       "0                           None reported         Yes   4200  \n",
       "1  At least 1 accident or damage reported         Yes   4999  \n",
       "2                           None reported         Yes  13900  \n",
       "3                           None reported         Yes  45000  \n",
       "4                           None reported         Yes  97500  "
      ]
     },
     "execution_count": 2,
     "metadata": {},
     "output_type": "execute_result"
    }
   ],
   "source": [
    "# Read train df:\n",
    "train = pd.read_csv(filepath_or_buffer='train.csv')\n",
    "train.head()"
   ]
  },
  {
   "cell_type": "code",
   "execution_count": 3,
   "metadata": {
    "execution": {
     "iopub.execute_input": "2024-09-19T14:04:52.275052Z",
     "iopub.status.busy": "2024-09-19T14:04:52.274890Z",
     "iopub.status.idle": "2024-09-19T14:04:52.279508Z",
     "shell.execute_reply": "2024-09-19T14:04:52.278779Z",
     "shell.execute_reply.started": "2024-09-19T14:04:52.275037Z"
    }
   },
   "outputs": [
    {
     "data": {
      "text/plain": [
       "Index(['id', 'brand', 'model', 'model_year', 'milage', 'fuel_type', 'engine',\n",
       "       'transmission', 'ext_col', 'int_col', 'accident', 'clean_title',\n",
       "       'price'],\n",
       "      dtype='object')"
      ]
     },
     "execution_count": 3,
     "metadata": {},
     "output_type": "execute_result"
    }
   ],
   "source": [
    "# Train columns:\n",
    "train.columns"
   ]
  },
  {
   "cell_type": "code",
   "execution_count": 4,
   "metadata": {
    "execution": {
     "iopub.execute_input": "2024-09-19T14:04:52.280541Z",
     "iopub.status.busy": "2024-09-19T14:04:52.280385Z",
     "iopub.status.idle": "2024-09-19T14:04:52.609354Z",
     "shell.execute_reply": "2024-09-19T14:04:52.608895Z",
     "shell.execute_reply.started": "2024-09-19T14:04:52.280526Z"
    }
   },
   "outputs": [
    {
     "data": {
      "text/html": [
       "<div>\n",
       "<style scoped>\n",
       "    .dataframe tbody tr th:only-of-type {\n",
       "        vertical-align: middle;\n",
       "    }\n",
       "\n",
       "    .dataframe tbody tr th {\n",
       "        vertical-align: top;\n",
       "    }\n",
       "\n",
       "    .dataframe thead th {\n",
       "        text-align: right;\n",
       "    }\n",
       "</style>\n",
       "<table border=\"1\" class=\"dataframe\">\n",
       "  <thead>\n",
       "    <tr style=\"text-align: right;\">\n",
       "      <th></th>\n",
       "      <th>id</th>\n",
       "      <th>brand</th>\n",
       "      <th>model</th>\n",
       "      <th>model_year</th>\n",
       "      <th>milage</th>\n",
       "      <th>fuel_type</th>\n",
       "      <th>engine</th>\n",
       "      <th>transmission</th>\n",
       "      <th>ext_col</th>\n",
       "      <th>int_col</th>\n",
       "      <th>accident</th>\n",
       "      <th>clean_title</th>\n",
       "    </tr>\n",
       "  </thead>\n",
       "  <tbody>\n",
       "    <tr>\n",
       "      <th>0</th>\n",
       "      <td>188533</td>\n",
       "      <td>Land</td>\n",
       "      <td>Rover LR2 Base</td>\n",
       "      <td>2015</td>\n",
       "      <td>98000</td>\n",
       "      <td>Gasoline</td>\n",
       "      <td>240.0HP 2.0L 4 Cylinder Engine Gasoline Fuel</td>\n",
       "      <td>6-Speed A/T</td>\n",
       "      <td>White</td>\n",
       "      <td>Beige</td>\n",
       "      <td>None reported</td>\n",
       "      <td>Yes</td>\n",
       "    </tr>\n",
       "    <tr>\n",
       "      <th>1</th>\n",
       "      <td>188534</td>\n",
       "      <td>Land</td>\n",
       "      <td>Rover Defender SE</td>\n",
       "      <td>2020</td>\n",
       "      <td>9142</td>\n",
       "      <td>Hybrid</td>\n",
       "      <td>395.0HP 3.0L Straight 6 Cylinder Engine Gasoli...</td>\n",
       "      <td>8-Speed A/T</td>\n",
       "      <td>Silver</td>\n",
       "      <td>Black</td>\n",
       "      <td>None reported</td>\n",
       "      <td>Yes</td>\n",
       "    </tr>\n",
       "    <tr>\n",
       "      <th>2</th>\n",
       "      <td>188535</td>\n",
       "      <td>Ford</td>\n",
       "      <td>Expedition Limited</td>\n",
       "      <td>2022</td>\n",
       "      <td>28121</td>\n",
       "      <td>Gasoline</td>\n",
       "      <td>3.5L V6 24V PDI DOHC Twin Turbo</td>\n",
       "      <td>10-Speed Automatic</td>\n",
       "      <td>White</td>\n",
       "      <td>Ebony</td>\n",
       "      <td>None reported</td>\n",
       "      <td>NaN</td>\n",
       "    </tr>\n",
       "    <tr>\n",
       "      <th>3</th>\n",
       "      <td>188536</td>\n",
       "      <td>Audi</td>\n",
       "      <td>A6 2.0T Sport</td>\n",
       "      <td>2016</td>\n",
       "      <td>61258</td>\n",
       "      <td>Gasoline</td>\n",
       "      <td>2.0 Liter TFSI</td>\n",
       "      <td>Automatic</td>\n",
       "      <td>Silician Yellow</td>\n",
       "      <td>Black</td>\n",
       "      <td>None reported</td>\n",
       "      <td>NaN</td>\n",
       "    </tr>\n",
       "    <tr>\n",
       "      <th>4</th>\n",
       "      <td>188537</td>\n",
       "      <td>Audi</td>\n",
       "      <td>A6 2.0T Premium Plus</td>\n",
       "      <td>2018</td>\n",
       "      <td>59000</td>\n",
       "      <td>Gasoline</td>\n",
       "      <td>252.0HP 2.0L 4 Cylinder Engine Gasoline Fuel</td>\n",
       "      <td>A/T</td>\n",
       "      <td>Gray</td>\n",
       "      <td>Black</td>\n",
       "      <td>None reported</td>\n",
       "      <td>Yes</td>\n",
       "    </tr>\n",
       "  </tbody>\n",
       "</table>\n",
       "</div>"
      ],
      "text/plain": [
       "       id brand                 model  model_year  milage fuel_type  \\\n",
       "0  188533  Land        Rover LR2 Base        2015   98000  Gasoline   \n",
       "1  188534  Land     Rover Defender SE        2020    9142    Hybrid   \n",
       "2  188535  Ford    Expedition Limited        2022   28121  Gasoline   \n",
       "3  188536  Audi         A6 2.0T Sport        2016   61258  Gasoline   \n",
       "4  188537  Audi  A6 2.0T Premium Plus        2018   59000  Gasoline   \n",
       "\n",
       "                                              engine        transmission  \\\n",
       "0       240.0HP 2.0L 4 Cylinder Engine Gasoline Fuel         6-Speed A/T   \n",
       "1  395.0HP 3.0L Straight 6 Cylinder Engine Gasoli...         8-Speed A/T   \n",
       "2                    3.5L V6 24V PDI DOHC Twin Turbo  10-Speed Automatic   \n",
       "3                                     2.0 Liter TFSI           Automatic   \n",
       "4       252.0HP 2.0L 4 Cylinder Engine Gasoline Fuel                 A/T   \n",
       "\n",
       "           ext_col int_col       accident clean_title  \n",
       "0            White   Beige  None reported         Yes  \n",
       "1           Silver   Black  None reported         Yes  \n",
       "2            White   Ebony  None reported         NaN  \n",
       "3  Silician Yellow   Black  None reported         NaN  \n",
       "4             Gray   Black  None reported         Yes  "
      ]
     },
     "execution_count": 4,
     "metadata": {},
     "output_type": "execute_result"
    }
   ],
   "source": [
    "# Read test data:\n",
    "test = pd.read_csv('test.csv')\n",
    "test.head()"
   ]
  },
  {
   "cell_type": "markdown",
   "metadata": {},
   "source": [
    "## PREPROCESSING"
   ]
  },
  {
   "cell_type": "code",
   "execution_count": 5,
   "metadata": {
    "execution": {
     "iopub.execute_input": "2024-09-19T14:04:52.610157Z",
     "iopub.status.busy": "2024-09-19T14:04:52.610005Z",
     "iopub.status.idle": "2024-09-19T14:04:52.662702Z",
     "shell.execute_reply": "2024-09-19T14:04:52.661961Z",
     "shell.execute_reply.started": "2024-09-19T14:04:52.610140Z"
    }
   },
   "outputs": [
    {
     "name": "stdout",
     "output_type": "stream",
     "text": [
      "<class 'pandas.core.frame.DataFrame'>\n",
      "RangeIndex: 188533 entries, 0 to 188532\n",
      "Data columns (total 13 columns):\n",
      " #   Column        Non-Null Count   Dtype \n",
      "---  ------        --------------   ----- \n",
      " 0   id            188533 non-null  int64 \n",
      " 1   brand         188533 non-null  object\n",
      " 2   model         188533 non-null  object\n",
      " 3   model_year    188533 non-null  int64 \n",
      " 4   milage        188533 non-null  int64 \n",
      " 5   fuel_type     183450 non-null  object\n",
      " 6   engine        188533 non-null  object\n",
      " 7   transmission  188533 non-null  object\n",
      " 8   ext_col       188533 non-null  object\n",
      " 9   int_col       188533 non-null  object\n",
      " 10  accident      186081 non-null  object\n",
      " 11  clean_title   167114 non-null  object\n",
      " 12  price         188533 non-null  int64 \n",
      "dtypes: int64(4), object(9)\n",
      "memory usage: 18.7+ MB\n"
     ]
    }
   ],
   "source": [
    "# Train data infomation:\n",
    "train.info()"
   ]
  },
  {
   "cell_type": "code",
   "execution_count": 6,
   "metadata": {
    "execution": {
     "iopub.execute_input": "2024-09-19T14:04:52.664048Z",
     "iopub.status.busy": "2024-09-19T14:04:52.663704Z",
     "iopub.status.idle": "2024-09-19T14:04:52.679618Z",
     "shell.execute_reply": "2024-09-19T14:04:52.678961Z",
     "shell.execute_reply.started": "2024-09-19T14:04:52.664024Z"
    }
   },
   "outputs": [
    {
     "data": {
      "text/plain": [
       "count     188533.000\n",
       "mean       43878.016\n",
       "std        78819.522\n",
       "min         2000.000\n",
       "25%        17000.000\n",
       "50%        30825.000\n",
       "75%        49900.000\n",
       "max      2954083.000\n",
       "Name: price, dtype: float64"
      ]
     },
     "execution_count": 6,
     "metadata": {},
     "output_type": "execute_result"
    }
   ],
   "source": [
    "# Descriptive statistics of target variable:\n",
    "np.round(train['price'].describe().T, 3)"
   ]
  },
  {
   "cell_type": "code",
   "execution_count": 7,
   "metadata": {
    "execution": {
     "iopub.execute_input": "2024-09-19T14:04:52.680715Z",
     "iopub.status.busy": "2024-09-19T14:04:52.680452Z",
     "iopub.status.idle": "2024-09-19T14:04:52.745057Z",
     "shell.execute_reply": "2024-09-19T14:04:52.744500Z",
     "shell.execute_reply.started": "2024-09-19T14:04:52.680685Z"
    }
   },
   "outputs": [
    {
     "data": {
      "text/plain": [
       "clean_title     11.360876\n",
       "fuel_type        2.696080\n",
       "accident         1.300568\n",
       "id               0.000000\n",
       "brand            0.000000\n",
       "model            0.000000\n",
       "model_year       0.000000\n",
       "milage           0.000000\n",
       "engine           0.000000\n",
       "transmission     0.000000\n",
       "ext_col          0.000000\n",
       "int_col          0.000000\n",
       "price            0.000000\n",
       "dtype: float64"
      ]
     },
     "execution_count": 7,
     "metadata": {},
     "output_type": "execute_result"
    }
   ],
   "source": [
    "# Null values as percentage of total data:\n",
    "(train.isnull().sum().sort_values(ascending=False) / len(train)) * 100"
   ]
  },
  {
   "cell_type": "markdown",
   "metadata": {
    "execution": {
     "iopub.execute_input": "2024-09-19T13:53:10.958828Z",
     "iopub.status.busy": "2024-09-19T13:53:10.958505Z",
     "iopub.status.idle": "2024-09-19T13:53:10.961664Z",
     "shell.execute_reply": "2024-09-19T13:53:10.961237Z",
     "shell.execute_reply.started": "2024-09-19T13:53:10.958806Z"
    }
   },
   "source": [
    "### NULL VALUE PROCESSING"
   ]
  },
  {
   "cell_type": "code",
   "execution_count": 11,
   "metadata": {
    "execution": {
     "iopub.execute_input": "2024-09-19T14:05:35.944918Z",
     "iopub.status.busy": "2024-09-19T14:05:35.944603Z",
     "iopub.status.idle": "2024-09-19T14:05:35.948585Z",
     "shell.execute_reply": "2024-09-19T14:05:35.948156Z",
     "shell.execute_reply.started": "2024-09-19T14:05:35.944898Z"
    }
   },
   "outputs": [],
   "source": [
    "# We will define functions for each preprocessing and feature engineering.\n",
    "# This approach will allow us to apply same modifications to the test data.\n",
    "# \"clean_title\" processor function:\n",
    "def clean_title_processor(df: pd.DataFrame) -> None:\n",
    "\t\"\"\"\n",
    "\tThis function deals with the clean_title\n",
    "\tnull values.\n",
    "\t\"\"\"\n",
    "\t# Fill null values with \"No\". We assume that null values indicate \"No\".\n",
    "\tdf['clean_title'] = df['clean_title'].fillna('No')\n",
    "\n",
    "\treturn None\n",
    "\n",
    "# \"fuel_type\" processor function:\n",
    "def fuel_type_processor(df: pd.Dataframe) -> None:\n",
    "\t\"\"\"\n",
    "\tThis function deals with fuel_type column's null values and wrong data\n",
    "\tentries. For example, Certain observations show that fuel_type is gasoline\n",
    "\tyet\n",
    "\t\"\"\""
   ]
  },
  {
   "cell_type": "code",
   "execution_count": 16,
   "metadata": {
    "execution": {
     "iopub.execute_input": "2024-09-19T14:06:01.772498Z",
     "iopub.status.busy": "2024-09-19T14:06:01.772084Z",
     "iopub.status.idle": "2024-09-19T14:06:01.789528Z",
     "shell.execute_reply": "2024-09-19T14:06:01.788908Z",
     "shell.execute_reply.started": "2024-09-19T14:06:01.772472Z"
    }
   },
   "outputs": [
    {
     "data": {
      "text/plain": [
       "clean_title\n",
       "Yes    167114\n",
       "No      21419\n",
       "Name: count, dtype: int64"
      ]
     },
     "execution_count": 16,
     "metadata": {},
     "output_type": "execute_result"
    }
   ],
   "source": [
    "# Investigation of \"clean_title\":\n",
    "train['clean_title'].value_counts()"
   ]
  },
  {
   "cell_type": "code",
   "execution_count": 10,
   "metadata": {
    "execution": {
     "iopub.execute_input": "2024-09-19T14:04:52.773344Z",
     "iopub.status.busy": "2024-09-19T14:04:52.773181Z",
     "iopub.status.idle": "2024-09-19T14:04:52.779389Z",
     "shell.execute_reply": "2024-09-19T14:04:52.778611Z",
     "shell.execute_reply.started": "2024-09-19T14:04:52.773328Z"
    }
   },
   "outputs": [],
   "source": [
    "# Transmission values exhibit certain redundant data. We will define a\n",
    "# function to tackle this issue:\n",
    "def fix_transmission(transmission_value: str) -> str:\n",
    "    \"\"\"Fix transmission value and remove redundant data\"\"\"\n",
    "    \n",
    "    # Standardize Automatic Transmissions (A/T)\n",
    "    automatic_keywords = ['A/T', 'Automatic', 'Auto', 'AT']\n",
    "    if any(keyword in transmission_value for keyword in automatic_keywords):\n",
    "        if '8-Speed' in transmission_value:\n",
    "            return '8-Speed Automatic'\n",
    "        elif '10-Speed' in transmission_value:\n",
    "            return '10-Speed Automatic'\n",
    "        elif '9-Speed' in transmission_value:\n",
    "            return '9-Speed Automatic'\n",
    "        elif '7-Speed' in transmission_value:\n",
    "            return '7-Speed Automatic'\n",
    "        elif '6-Speed' in transmission_value:\n",
    "            return '6-Speed Automatic'\n",
    "        elif '5-Speed' in transmission_value:\n",
    "            return '5-Speed Automatic'\n",
    "        elif '4-Speed' in transmission_value:\n",
    "            return '4-Speed Automatic'\n",
    "        elif '2-Speed' in transmission_value:\n",
    "            return '2-Speed Automatic'\n",
    "        elif '1-Speed' in transmission_value:\n",
    "            return '1-Speed Automatic'\n",
    "        else:\n",
    "            return 'Automatic'\n",
    "    \n",
    "    # Standardize Manual Transmissions (M/T)\n",
    "    manual_keywords = ['M/T', 'Manual', 'Mt']\n",
    "    if any(keyword in transmission_value for keyword in manual_keywords):\n",
    "        if '8-Speed' in transmission_value:\n",
    "            return '8-Speed Manual'\n",
    "        elif '7-Speed' in transmission_value:\n",
    "            return '7-Speed Manual'\n",
    "        elif '6-Speed' in transmission_value:\n",
    "            return '6-Speed Manual'\n",
    "        elif '5-Speed' in transmission_value:\n",
    "            return '5-Speed Manual'\n",
    "        else:\n",
    "            return 'Manual'\n",
    "    \n",
    "    # Standardize CVT (Continuously Variable Transmission)\n",
    "    if 'CVT' in transmission_value:\n",
    "        return 'CVT'\n",
    "\n",
    "    # Handle special cases\n",
    "    if 'Single-Speed Fixed Gear' in transmission_value:\n",
    "        return 'Single-Speed Fixed Gear'\n",
    "    if 'Transmission w/Dual Shift Mode' in transmission_value:\n",
    "        return 'Dual Shift Mode'\n",
    "    if 'Transmission Overdrive Switch' in transmission_value:\n",
    "        return 'Transmission Overdrive Switch'\n",
    "    \n",
    "    # Handle undefined or special values\n",
    "    if transmission_value in ['None', 'Variable', 'F', '2']:\n",
    "        return 'Other'\n",
    "    \n",
    "    # Default case: return the original value if no match\n",
    "    return transmission_value"
   ]
  },
  {
   "cell_type": "markdown",
   "metadata": {},
   "source": [
    "## FEATURE ENGINEERING"
   ]
  }
 ],
 "metadata": {
  "kaggle": {
   "accelerator": "none",
   "dataSources": [
    {
     "databundleVersionId": 9057646,
     "sourceId": 76728,
     "sourceType": "competition"
    }
   ],
   "dockerImageVersionId": 30761,
   "isGpuEnabled": false,
   "isInternetEnabled": true,
   "language": "python",
   "sourceType": "notebook"
  },
  "kernelspec": {
   "display_name": "ISL",
   "language": "python",
   "name": "isl"
  },
  "language_info": {
   "codemirror_mode": {
    "name": "ipython",
    "version": 3
   },
   "file_extension": ".py",
   "mimetype": "text/x-python",
   "name": "python",
   "nbconvert_exporter": "python",
   "pygments_lexer": "ipython3",
   "version": "3.10.12"
  }
 },
 "nbformat": 4,
 "nbformat_minor": 4
}
