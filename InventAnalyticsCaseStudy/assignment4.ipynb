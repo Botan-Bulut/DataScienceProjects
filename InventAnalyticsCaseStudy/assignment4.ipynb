{
 "cells": [
  {
   "cell_type": "markdown",
   "id": "7bda144b-57c8-4b65-baea-bee8f83d676e",
   "metadata": {
    "execution": {
     "iopub.execute_input": "2024-09-19T15:29:31.056812Z",
     "iopub.status.busy": "2024-09-19T15:29:31.056123Z",
     "iopub.status.idle": "2024-09-19T15:29:31.059664Z",
     "shell.execute_reply": "2024-09-19T15:29:31.059284Z",
     "shell.execute_reply.started": "2024-09-19T15:29:31.056789Z"
    }
   },
   "source": [
    "# PROMOTION BUMP ASSIGNMENT\n",
    "date: 2024-09-19  \n",
    "Analist: Botan Fırat Bulut"
   ]
  },
  {
   "cell_type": "markdown",
   "id": "85175661-98be-4dcd-a09c-ee8643400590",
   "metadata": {
    "execution": {
     "iopub.execute_input": "2024-09-19T15:30:54.555881Z",
     "iopub.status.busy": "2024-09-19T15:30:54.555591Z",
     "iopub.status.idle": "2024-09-19T15:30:54.558702Z",
     "shell.execute_reply": "2024-09-19T15:30:54.558402Z",
     "shell.execute_reply.started": "2024-09-19T15:30:54.555862Z"
    }
   },
   "source": [
    "## IMPORTS AND SETUP"
   ]
  },
  {
   "cell_type": "code",
   "execution_count": 1,
   "id": "6cbe22de-3f9a-4399-8452-277933d5911f",
   "metadata": {
    "execution": {
     "iopub.execute_input": "2024-09-20T11:34:29.725225Z",
     "iopub.status.busy": "2024-09-20T11:34:29.724754Z",
     "iopub.status.idle": "2024-09-20T11:34:32.261685Z",
     "shell.execute_reply": "2024-09-20T11:34:32.259968Z",
     "shell.execute_reply.started": "2024-09-20T11:34:29.725148Z"
    }
   },
   "outputs": [],
   "source": [
    "# Imports:\n",
    "import numpy as np\n",
    "import pandas as pd\n",
    "import matplotlib.pyplot as plt\n",
    "import seaborn as sns\n",
    "import warnings\n",
    "\n",
    "# Ignoner harmless warnings:\n",
    "warnings.filterwarnings('ignore')\n",
    "\n",
    "# Plot rcParams:\n",
    "plt.rcParams['figure.figsize'] = (15, 7)\n",
    "plt.rcParams['figure.dpi'] = 144\n",
    "plt.rcParams['figure.titlesize'] = 22\n",
    "plt.rcParams['figure.titleweight'] = 'bold'\n",
    "plt.rcParams['axes.titlesize'] = 22\n",
    "plt.rcParams['axes.titleweight'] = 'bold'\n",
    "plt.style.use('ggplot')"
   ]
  },
  {
   "cell_type": "markdown",
   "id": "62378c33-d68b-4b46-b55a-26e67930f28c",
   "metadata": {
    "execution": {
     "iopub.execute_input": "2024-09-19T15:33:59.800933Z",
     "iopub.status.busy": "2024-09-19T15:33:59.800480Z",
     "iopub.status.idle": "2024-09-19T15:33:59.804029Z",
     "shell.execute_reply": "2024-09-19T15:33:59.803485Z",
     "shell.execute_reply.started": "2024-09-19T15:33:59.800912Z"
    }
   },
   "source": [
    "### Data = assignment4.1a.csv\n",
    "The data contains daily sales of sample of items in several stores on a  \n",
    "specific time frame. Negative sale quantities represents returns. Each row  \n",
    "represents a sale (or return) activity for an item in a store at a specific day.  \n",
    "If a store-item combination has no observation in a certain day you can  \n",
    "assume there is no sales for that item at that store at that day."
   ]
  },
  {
   "cell_type": "code",
   "execution_count": 2,
   "id": "4ce5dc53-33ee-47f7-b60f-d3385f07700a",
   "metadata": {
    "execution": {
     "iopub.execute_input": "2024-09-20T11:34:32.265019Z",
     "iopub.status.busy": "2024-09-20T11:34:32.264216Z",
     "iopub.status.idle": "2024-09-20T11:34:33.340181Z",
     "shell.execute_reply": "2024-09-20T11:34:33.338085Z",
     "shell.execute_reply.started": "2024-09-20T11:34:32.264968Z"
    }
   },
   "outputs": [
    {
     "data": {
      "text/html": [
       "<div>\n",
       "<style scoped>\n",
       "    .dataframe tbody tr th:only-of-type {\n",
       "        vertical-align: middle;\n",
       "    }\n",
       "\n",
       "    .dataframe tbody tr th {\n",
       "        vertical-align: top;\n",
       "    }\n",
       "\n",
       "    .dataframe thead th {\n",
       "        text-align: right;\n",
       "    }\n",
       "</style>\n",
       "<table border=\"1\" class=\"dataframe\">\n",
       "  <thead>\n",
       "    <tr style=\"text-align: right;\">\n",
       "      <th></th>\n",
       "      <th>Date</th>\n",
       "      <th>StoreCode</th>\n",
       "      <th>ProductCode</th>\n",
       "      <th>SalesQuantity</th>\n",
       "    </tr>\n",
       "  </thead>\n",
       "  <tbody>\n",
       "    <tr>\n",
       "      <th>0</th>\n",
       "      <td>2015-01-01</td>\n",
       "      <td>8</td>\n",
       "      <td>9</td>\n",
       "      <td>-1</td>\n",
       "    </tr>\n",
       "    <tr>\n",
       "      <th>1</th>\n",
       "      <td>2015-01-01</td>\n",
       "      <td>131</td>\n",
       "      <td>9</td>\n",
       "      <td>1</td>\n",
       "    </tr>\n",
       "    <tr>\n",
       "      <th>2</th>\n",
       "      <td>2015-01-01</td>\n",
       "      <td>144</td>\n",
       "      <td>9</td>\n",
       "      <td>2</td>\n",
       "    </tr>\n",
       "    <tr>\n",
       "      <th>3</th>\n",
       "      <td>2015-01-01</td>\n",
       "      <td>203</td>\n",
       "      <td>9</td>\n",
       "      <td>2</td>\n",
       "    </tr>\n",
       "    <tr>\n",
       "      <th>4</th>\n",
       "      <td>2015-01-01</td>\n",
       "      <td>256</td>\n",
       "      <td>9</td>\n",
       "      <td>0</td>\n",
       "    </tr>\n",
       "  </tbody>\n",
       "</table>\n",
       "</div>"
      ],
      "text/plain": [
       "         Date  StoreCode  ProductCode  SalesQuantity\n",
       "0  2015-01-01          8            9             -1\n",
       "1  2015-01-01        131            9              1\n",
       "2  2015-01-01        144            9              2\n",
       "3  2015-01-01        203            9              2\n",
       "4  2015-01-01        256            9              0"
      ]
     },
     "execution_count": 2,
     "metadata": {},
     "output_type": "execute_result"
    }
   ],
   "source": [
    "# Read assignment4.1a.csv:\n",
    "df1a = pd.read_csv('./assignment4.1a.csv')\n",
    "df1a.head()"
   ]
  },
  {
   "cell_type": "code",
   "execution_count": 3,
   "id": "19008428-8f91-4698-9992-672f57908527",
   "metadata": {
    "execution": {
     "iopub.execute_input": "2024-09-20T11:34:33.342820Z",
     "iopub.status.busy": "2024-09-20T11:34:33.342262Z",
     "iopub.status.idle": "2024-09-20T11:34:33.364747Z",
     "shell.execute_reply": "2024-09-20T11:34:33.362135Z",
     "shell.execute_reply.started": "2024-09-20T11:34:33.342759Z"
    }
   },
   "outputs": [
    {
     "name": "stdout",
     "output_type": "stream",
     "text": [
      "<class 'pandas.core.frame.DataFrame'>\n",
      "RangeIndex: 1873618 entries, 0 to 1873617\n",
      "Data columns (total 4 columns):\n",
      " #   Column         Dtype \n",
      "---  ------         ----- \n",
      " 0   Date           object\n",
      " 1   StoreCode      int64 \n",
      " 2   ProductCode    int64 \n",
      " 3   SalesQuantity  int64 \n",
      "dtypes: int64(3), object(1)\n",
      "memory usage: 57.2+ MB\n"
     ]
    }
   ],
   "source": [
    "# df1a information:\n",
    "df1a.info()"
   ]
  },
  {
   "cell_type": "code",
   "execution_count": 4,
   "id": "60142a13-106c-463b-af14-54353feed8ed",
   "metadata": {
    "execution": {
     "iopub.execute_input": "2024-09-20T11:34:33.367481Z",
     "iopub.status.busy": "2024-09-20T11:34:33.366881Z",
     "iopub.status.idle": "2024-09-20T11:34:33.745753Z",
     "shell.execute_reply": "2024-09-20T11:34:33.739766Z",
     "shell.execute_reply.started": "2024-09-20T11:34:33.367391Z"
    }
   },
   "outputs": [
    {
     "data": {
      "text/plain": [
       "Date             0\n",
       "StoreCode        0\n",
       "ProductCode      0\n",
       "SalesQuantity    0\n",
       "dtype: int64"
      ]
     },
     "execution_count": 4,
     "metadata": {},
     "output_type": "execute_result"
    }
   ],
   "source": [
    "# df1a null values:\n",
    "df1a.isnull().sum()"
   ]
  },
  {
   "cell_type": "markdown",
   "id": "44bd49de-dedd-475b-b960-29ea27aeb305",
   "metadata": {},
   "source": [
    "The assignment4.1a.csv contains 3 columns with 1,873,618 records. It does  \n",
    "not contain any missing values."
   ]
  },
  {
   "cell_type": "markdown",
   "id": "ceecd3ac-730d-44c4-a291-a03130e7f57c",
   "metadata": {},
   "source": [
    "### Data=Promotiondates.csv\n",
    "The data contains beginning and the end dates of 6 promotions that took\n",
    "place in 2015.  "
   ]
  },
  {
   "cell_type": "code",
   "execution_count": 5,
   "id": "8636cc7f-0f9b-43a5-97ba-2e5a9b2ca403",
   "metadata": {
    "execution": {
     "iopub.execute_input": "2024-09-20T11:34:33.754207Z",
     "iopub.status.busy": "2024-09-20T11:34:33.752690Z",
     "iopub.status.idle": "2024-09-20T11:34:33.812560Z",
     "shell.execute_reply": "2024-09-20T11:34:33.807568Z",
     "shell.execute_reply.started": "2024-09-20T11:34:33.754064Z"
    }
   },
   "outputs": [
    {
     "data": {
      "text/html": [
       "<div>\n",
       "<style scoped>\n",
       "    .dataframe tbody tr th:only-of-type {\n",
       "        vertical-align: middle;\n",
       "    }\n",
       "\n",
       "    .dataframe tbody tr th {\n",
       "        vertical-align: top;\n",
       "    }\n",
       "\n",
       "    .dataframe thead th {\n",
       "        text-align: right;\n",
       "    }\n",
       "</style>\n",
       "<table border=\"1\" class=\"dataframe\">\n",
       "  <thead>\n",
       "    <tr style=\"text-align: right;\">\n",
       "      <th></th>\n",
       "      <th>Period</th>\n",
       "      <th>StartDate</th>\n",
       "      <th>EndDate</th>\n",
       "    </tr>\n",
       "  </thead>\n",
       "  <tbody>\n",
       "    <tr>\n",
       "      <th>0</th>\n",
       "      <td>Promo1</td>\n",
       "      <td>2/10/2015</td>\n",
       "      <td>2/17/2015</td>\n",
       "    </tr>\n",
       "    <tr>\n",
       "      <th>1</th>\n",
       "      <td>Promo2</td>\n",
       "      <td>3/15/2015</td>\n",
       "      <td>3/22/2015</td>\n",
       "    </tr>\n",
       "    <tr>\n",
       "      <th>2</th>\n",
       "      <td>Promo3</td>\n",
       "      <td>5/24/2015</td>\n",
       "      <td>6/1/2015</td>\n",
       "    </tr>\n",
       "    <tr>\n",
       "      <th>3</th>\n",
       "      <td>Promo4</td>\n",
       "      <td>6/21/2015</td>\n",
       "      <td>6/28/2015</td>\n",
       "    </tr>\n",
       "    <tr>\n",
       "      <th>4</th>\n",
       "      <td>Promo5</td>\n",
       "      <td>1/9/2015</td>\n",
       "      <td>6/9/2015</td>\n",
       "    </tr>\n",
       "    <tr>\n",
       "      <th>5</th>\n",
       "      <td>Promo6</td>\n",
       "      <td>20/11/2015</td>\n",
       "      <td>27/11/2015</td>\n",
       "    </tr>\n",
       "  </tbody>\n",
       "</table>\n",
       "</div>"
      ],
      "text/plain": [
       "   Period   StartDate     EndDate\n",
       "0  Promo1   2/10/2015   2/17/2015\n",
       "1  Promo2   3/15/2015   3/22/2015\n",
       "2  Promo3   5/24/2015    6/1/2015\n",
       "3  Promo4   6/21/2015   6/28/2015\n",
       "4  Promo5    1/9/2015    6/9/2015\n",
       "5  Promo6  20/11/2015  27/11/2015"
      ]
     },
     "execution_count": 5,
     "metadata": {},
     "output_type": "execute_result"
    }
   ],
   "source": [
    "df_promotion = pd.read_csv('./PromotionDates.csv')\n",
    "df_promotion"
   ]
  },
  {
   "cell_type": "markdown",
   "id": "1cb429b9-c541-4668-b873-8518557c8069",
   "metadata": {},
   "source": [
    "The data contains beginning and the end dates of 6 promotions  \n",
    "that took place in 2015."
   ]
  },
  {
   "cell_type": "markdown",
   "id": "98c5041e-cb35-4283-96b5-e46f4556fb50",
   "metadata": {
    "execution": {
     "iopub.execute_input": "2024-09-19T16:32:14.431910Z",
     "iopub.status.busy": "2024-09-19T16:32:14.430847Z",
     "iopub.status.idle": "2024-09-19T16:32:14.434443Z",
     "shell.execute_reply": "2024-09-19T16:32:14.433966Z",
     "shell.execute_reply.started": "2024-09-19T16:32:14.431885Z"
    }
   },
   "source": [
    "### TASK A"
   ]
  },
  {
   "cell_type": "markdown",
   "id": "b7bb1432-9cb8-49f7-8e32-7127fbea1f52",
   "metadata": {},
   "source": [
    "Your goal is to model the effect of promotion on products and stores. At this  \n",
    "stage only use the data in the file Assignment4.1a.csv and base your model  \n",
    "using the first 4 promotions."
   ]
  },
  {
   "cell_type": "code",
   "execution_count": 6,
   "id": "c7e3ffdb-3d2a-457e-a7ed-57996bb69ff5",
   "metadata": {
    "execution": {
     "iopub.execute_input": "2024-09-20T11:34:33.837586Z",
     "iopub.status.busy": "2024-09-20T11:34:33.835971Z",
     "iopub.status.idle": "2024-09-20T11:34:34.318929Z",
     "shell.execute_reply": "2024-09-20T11:34:34.316555Z",
     "shell.execute_reply.started": "2024-09-20T11:34:33.837446Z"
    }
   },
   "outputs": [],
   "source": [
    "# convert dataframe Date column from object to datetime:\n",
    "df1a['Date'] = pd.to_datetime(df1a['Date'],\n",
    "\t\t\t\t\t\t\t  format='%Y-%m-%d')\n",
    "\n",
    "# Promotion data's last 2 rows contain day first datetime format.\n",
    "# We fix this manually since there are only 4 wrong entries:\n",
    "df_promotion.at[4, 'StartDate'] = '9/1/2015'\n",
    "df_promotion.at[4, 'EndDate'] = '9/6/2015'\n",
    "df_promotion.at[5, 'StartDate'] = '11/20/2015'\n",
    "df_promotion.at[5, 'EndDate'] = '11/27/2015'"
   ]
  },
  {
   "cell_type": "code",
   "execution_count": 7,
   "id": "3664bb4d-e3d9-4ac6-b0f8-c59dc77aded3",
   "metadata": {
    "execution": {
     "iopub.execute_input": "2024-09-20T11:34:34.322260Z",
     "iopub.status.busy": "2024-09-20T11:34:34.321749Z",
     "iopub.status.idle": "2024-09-20T11:34:34.355793Z",
     "shell.execute_reply": "2024-09-20T11:34:34.353592Z",
     "shell.execute_reply.started": "2024-09-20T11:34:34.322201Z"
    }
   },
   "outputs": [
    {
     "name": "stdout",
     "output_type": "stream",
     "text": [
      "<class 'pandas.core.series.Series'>\n",
      "RangeIndex: 1873618 entries, 0 to 1873617\n",
      "Series name: Date\n",
      "Non-Null Count    Dtype         \n",
      "--------------    -----         \n",
      "1873618 non-null  datetime64[ns]\n",
      "dtypes: datetime64[ns](1)\n",
      "memory usage: 14.3 MB\n"
     ]
    }
   ],
   "source": [
    "# df1a date column datetype:\n",
    "df1a['Date'].info()"
   ]
  },
  {
   "cell_type": "code",
   "execution_count": 8,
   "id": "6c8d4381-9e54-4daa-b404-d32c5bec1c1b",
   "metadata": {
    "execution": {
     "iopub.execute_input": "2024-09-20T11:34:34.358405Z",
     "iopub.status.busy": "2024-09-20T11:34:34.357837Z",
     "iopub.status.idle": "2024-09-20T11:34:34.377398Z",
     "shell.execute_reply": "2024-09-20T11:34:34.375741Z",
     "shell.execute_reply.started": "2024-09-20T11:34:34.358350Z"
    }
   },
   "outputs": [
    {
     "data": {
      "text/html": [
       "<div>\n",
       "<style scoped>\n",
       "    .dataframe tbody tr th:only-of-type {\n",
       "        vertical-align: middle;\n",
       "    }\n",
       "\n",
       "    .dataframe tbody tr th {\n",
       "        vertical-align: top;\n",
       "    }\n",
       "\n",
       "    .dataframe thead th {\n",
       "        text-align: right;\n",
       "    }\n",
       "</style>\n",
       "<table border=\"1\" class=\"dataframe\">\n",
       "  <thead>\n",
       "    <tr style=\"text-align: right;\">\n",
       "      <th></th>\n",
       "      <th>Period</th>\n",
       "      <th>StartDate</th>\n",
       "      <th>EndDate</th>\n",
       "    </tr>\n",
       "  </thead>\n",
       "  <tbody>\n",
       "    <tr>\n",
       "      <th>0</th>\n",
       "      <td>Promo1</td>\n",
       "      <td>2/10/2015</td>\n",
       "      <td>2/17/2015</td>\n",
       "    </tr>\n",
       "    <tr>\n",
       "      <th>1</th>\n",
       "      <td>Promo2</td>\n",
       "      <td>3/15/2015</td>\n",
       "      <td>3/22/2015</td>\n",
       "    </tr>\n",
       "    <tr>\n",
       "      <th>2</th>\n",
       "      <td>Promo3</td>\n",
       "      <td>5/24/2015</td>\n",
       "      <td>6/1/2015</td>\n",
       "    </tr>\n",
       "    <tr>\n",
       "      <th>3</th>\n",
       "      <td>Promo4</td>\n",
       "      <td>6/21/2015</td>\n",
       "      <td>6/28/2015</td>\n",
       "    </tr>\n",
       "    <tr>\n",
       "      <th>4</th>\n",
       "      <td>Promo5</td>\n",
       "      <td>9/1/2015</td>\n",
       "      <td>9/6/2015</td>\n",
       "    </tr>\n",
       "    <tr>\n",
       "      <th>5</th>\n",
       "      <td>Promo6</td>\n",
       "      <td>11/20/2015</td>\n",
       "      <td>11/27/2015</td>\n",
       "    </tr>\n",
       "  </tbody>\n",
       "</table>\n",
       "</div>"
      ],
      "text/plain": [
       "   Period   StartDate     EndDate\n",
       "0  Promo1   2/10/2015   2/17/2015\n",
       "1  Promo2   3/15/2015   3/22/2015\n",
       "2  Promo3   5/24/2015    6/1/2015\n",
       "3  Promo4   6/21/2015   6/28/2015\n",
       "4  Promo5    9/1/2015    9/6/2015\n",
       "5  Promo6  11/20/2015  11/27/2015"
      ]
     },
     "execution_count": 8,
     "metadata": {},
     "output_type": "execute_result"
    }
   ],
   "source": [
    "# Check the update promotion data:\n",
    "df_promotion"
   ]
  },
  {
   "cell_type": "code",
   "execution_count": 9,
   "id": "2700dea8-60da-4571-b573-5410f8b87228",
   "metadata": {
    "execution": {
     "iopub.execute_input": "2024-09-20T11:34:34.379572Z",
     "iopub.status.busy": "2024-09-20T11:34:34.379100Z",
     "iopub.status.idle": "2024-09-20T11:34:34.922143Z",
     "shell.execute_reply": "2024-09-20T11:34:34.916429Z",
     "shell.execute_reply.started": "2024-09-20T11:34:34.379509Z"
    }
   },
   "outputs": [
    {
     "data": {
      "text/plain": [
       "WeekNumber\n",
       "12    75285\n",
       "10    69697\n",
       "8     68661\n",
       "18    68488\n",
       "7     67939\n",
       "11    67328\n",
       "14    66865\n",
       "17    66494\n",
       "9     66165\n",
       "15    65999\n",
       "16    65900\n",
       "20    65844\n",
       "19    64510\n",
       "5     64229\n",
       "21    62328\n",
       "23    61392\n",
       "6     61231\n",
       "13    60921\n",
       "26    59211\n",
       "2     59069\n",
       "24    58247\n",
       "3     57745\n",
       "22    56793\n",
       "28    56045\n",
       "4     55768\n",
       "25    55147\n",
       "30    55010\n",
       "29    54824\n",
       "27    49482\n",
       "31    42576\n",
       "1     24425\n",
       "Name: count, dtype: Int64"
      ]
     },
     "execution_count": 9,
     "metadata": {},
     "output_type": "execute_result"
    }
   ],
   "source": [
    "# We create ISO calender week column for groupping:\n",
    "df1a['WeekNumber'] = df1a['Date'].dt.isocalendar().week\n",
    "df1a['WeekNumber'].value_counts()"
   ]
  },
  {
   "cell_type": "code",
   "execution_count": 10,
   "id": "89b16770-c074-421d-b491-5f8f51417bb5",
   "metadata": {
    "execution": {
     "iopub.execute_input": "2024-09-20T11:34:34.929868Z",
     "iopub.status.busy": "2024-09-20T11:34:34.928058Z",
     "iopub.status.idle": "2024-09-20T11:34:35.003398Z",
     "shell.execute_reply": "2024-09-20T11:34:34.997479Z",
     "shell.execute_reply.started": "2024-09-20T11:34:34.929669Z"
    }
   },
   "outputs": [
    {
     "name": "stdout",
     "output_type": "stream",
     "text": [
      "<class 'pandas.core.frame.DataFrame'>\n",
      "RangeIndex: 6 entries, 0 to 5\n",
      "Data columns (total 3 columns):\n",
      " #   Column     Non-Null Count  Dtype         \n",
      "---  ------     --------------  -----         \n",
      " 0   Period     6 non-null      object        \n",
      " 1   StartDate  6 non-null      datetime64[ns]\n",
      " 2   EndDate    6 non-null      datetime64[ns]\n",
      "dtypes: datetime64[ns](2), object(1)\n",
      "memory usage: 272.0+ bytes\n"
     ]
    }
   ],
   "source": [
    "# Convert promotion data columns to datetype:\n",
    "df_promotion['StartDate'] = pd.to_datetime(df_promotion['StartDate'],\n",
    "\t\t\t\t\t\t\t\t\t\t  format='%m/%d/%Y')\n",
    "\n",
    "df_promotion['EndDate'] = pd.to_datetime(df_promotion['EndDate'],\n",
    "\t\t\t\t\t\t\t\t\t\t  format='%m/%d/%Y')\n",
    "\n",
    "# Check the updated promotion data information:\n",
    "df_promotion.info()"
   ]
  },
  {
   "cell_type": "code",
   "execution_count": 11,
   "id": "29dd0d6a-209e-4957-9b28-221511241e84",
   "metadata": {
    "execution": {
     "iopub.execute_input": "2024-09-20T11:34:35.010525Z",
     "iopub.status.busy": "2024-09-20T11:34:35.009082Z",
     "iopub.status.idle": "2024-09-20T11:34:35.087875Z",
     "shell.execute_reply": "2024-09-20T11:34:35.081620Z",
     "shell.execute_reply.started": "2024-09-20T11:34:35.010339Z"
    }
   },
   "outputs": [
    {
     "data": {
      "text/html": [
       "<div>\n",
       "<style scoped>\n",
       "    .dataframe tbody tr th:only-of-type {\n",
       "        vertical-align: middle;\n",
       "    }\n",
       "\n",
       "    .dataframe tbody tr th {\n",
       "        vertical-align: top;\n",
       "    }\n",
       "\n",
       "    .dataframe thead th {\n",
       "        text-align: right;\n",
       "    }\n",
       "</style>\n",
       "<table border=\"1\" class=\"dataframe\">\n",
       "  <thead>\n",
       "    <tr style=\"text-align: right;\">\n",
       "      <th></th>\n",
       "      <th>Period</th>\n",
       "      <th>StartDate</th>\n",
       "      <th>EndDate</th>\n",
       "      <th>StartWeekNumber</th>\n",
       "      <th>EndWeekNumber</th>\n",
       "    </tr>\n",
       "  </thead>\n",
       "  <tbody>\n",
       "    <tr>\n",
       "      <th>0</th>\n",
       "      <td>Promo1</td>\n",
       "      <td>2015-02-10</td>\n",
       "      <td>2015-02-17</td>\n",
       "      <td>7</td>\n",
       "      <td>8</td>\n",
       "    </tr>\n",
       "    <tr>\n",
       "      <th>1</th>\n",
       "      <td>Promo2</td>\n",
       "      <td>2015-03-15</td>\n",
       "      <td>2015-03-22</td>\n",
       "      <td>11</td>\n",
       "      <td>12</td>\n",
       "    </tr>\n",
       "    <tr>\n",
       "      <th>2</th>\n",
       "      <td>Promo3</td>\n",
       "      <td>2015-05-24</td>\n",
       "      <td>2015-06-01</td>\n",
       "      <td>21</td>\n",
       "      <td>23</td>\n",
       "    </tr>\n",
       "    <tr>\n",
       "      <th>3</th>\n",
       "      <td>Promo4</td>\n",
       "      <td>2015-06-21</td>\n",
       "      <td>2015-06-28</td>\n",
       "      <td>25</td>\n",
       "      <td>26</td>\n",
       "    </tr>\n",
       "    <tr>\n",
       "      <th>4</th>\n",
       "      <td>Promo5</td>\n",
       "      <td>2015-09-01</td>\n",
       "      <td>2015-09-06</td>\n",
       "      <td>36</td>\n",
       "      <td>36</td>\n",
       "    </tr>\n",
       "    <tr>\n",
       "      <th>5</th>\n",
       "      <td>Promo6</td>\n",
       "      <td>2015-11-20</td>\n",
       "      <td>2015-11-27</td>\n",
       "      <td>47</td>\n",
       "      <td>48</td>\n",
       "    </tr>\n",
       "  </tbody>\n",
       "</table>\n",
       "</div>"
      ],
      "text/plain": [
       "   Period  StartDate    EndDate  StartWeekNumber  EndWeekNumber\n",
       "0  Promo1 2015-02-10 2015-02-17                7              8\n",
       "1  Promo2 2015-03-15 2015-03-22               11             12\n",
       "2  Promo3 2015-05-24 2015-06-01               21             23\n",
       "3  Promo4 2015-06-21 2015-06-28               25             26\n",
       "4  Promo5 2015-09-01 2015-09-06               36             36\n",
       "5  Promo6 2015-11-20 2015-11-27               47             48"
      ]
     },
     "execution_count": 11,
     "metadata": {},
     "output_type": "execute_result"
    }
   ],
   "source": [
    "# Obtain week numbers of promotion start and end dates:\n",
    "df_promotion['StartWeekNumber'] = df_promotion['StartDate']\\\n",
    "\t.dt.isocalendar().week\n",
    "\n",
    "df_promotion['EndWeekNumber'] = df_promotion['EndDate']\\\n",
    "\t.dt.isocalendar().week\n",
    "\n",
    "df_promotion"
   ]
  },
  {
   "cell_type": "code",
   "execution_count": 12,
   "id": "e9e93db1-69bd-4d9a-839f-488ccee55ef6",
   "metadata": {
    "execution": {
     "iopub.execute_input": "2024-09-20T11:34:35.099070Z",
     "iopub.status.busy": "2024-09-20T11:34:35.097427Z",
     "iopub.status.idle": "2024-09-20T11:34:35.134583Z",
     "shell.execute_reply": "2024-09-20T11:34:35.127977Z",
     "shell.execute_reply.started": "2024-09-20T11:34:35.098932Z"
    }
   },
   "outputs": [],
   "source": [
    "# Merge promotion information with sales information:\n",
    "def promo_and_sales_merger(target_df: pd.DataFrame,\n",
    "\t\t\t\t\t\t   promo_df: pd.DataFrame) -> None:\n",
    "\t\"\"\"\n",
    "\tAdd flags to target df using promotion information.\n",
    "\t\"\"\"\n",
    "\n",
    "\ttarget_promotions = promo_df['Period'].values\n",
    "\n",
    "\t# Loop each promotion date information:\n",
    "\tfor promo in target_promotions:\n",
    "\n",
    "\t\t# Get the start and end weeks:\n",
    "\t\tstart_week = promo_df\\\n",
    "\t\t\t.query('Period == @promo')['StartWeekNumber'].values[0]\n",
    "\t\t\n",
    "\t\tend_week = promo_df\\\n",
    "\t\t.query('Period == @promo')['EndWeekNumber'].values[0]\n",
    "\n",
    "\t\t# Obtain target weeks:\n",
    "\t\ttarget_weeks = [start_week, end_week]\n",
    "\t\t\n",
    "\t\t# Add relevant flag to the data :\n",
    "\t\ttarget_df[f'{promo}_yes'] = False\n",
    "\t\tupdate_index = target_df\\\n",
    "\t\t\t.query('WeekNumber in @target_weeks').index\n",
    "\n",
    "\t\t# Flag promo weeks:\n",
    "\t\tfor idx in update_index:\n",
    "\t\t\ttarget_df.at[idx, f'{promo}_yes'] = True\n",
    "\t\t\n",
    "\treturn None"
   ]
  },
  {
   "cell_type": "code",
   "execution_count": 13,
   "id": "820b88c7-6c5d-4d94-8d18-d39891e404f0",
   "metadata": {
    "execution": {
     "iopub.execute_input": "2024-09-20T11:34:35.146319Z",
     "iopub.status.busy": "2024-09-20T11:34:35.144517Z",
     "iopub.status.idle": "2024-09-20T11:35:25.582992Z",
     "shell.execute_reply": "2024-09-20T11:35:25.582120Z",
     "shell.execute_reply.started": "2024-09-20T11:34:35.146163Z"
    }
   },
   "outputs": [],
   "source": [
    "# Run function:\n",
    "promo_and_sales_merger(target_df=df1a,\n",
    "\t\t\t\t\t  promo_df=df_promotion)"
   ]
  },
  {
   "cell_type": "code",
   "execution_count": 14,
   "id": "5ad56187-2f6b-4c9a-8fee-3110769c979c",
   "metadata": {
    "execution": {
     "iopub.execute_input": "2024-09-20T11:35:25.584183Z",
     "iopub.status.busy": "2024-09-20T11:35:25.583958Z",
     "iopub.status.idle": "2024-09-20T11:35:25.601532Z",
     "shell.execute_reply": "2024-09-20T11:35:25.600829Z",
     "shell.execute_reply.started": "2024-09-20T11:35:25.584157Z"
    }
   },
   "outputs": [
    {
     "data": {
      "text/plain": [
       "StoreCode\n",
       "331    17470\n",
       "276    15414\n",
       "307    13846\n",
       "99     13438\n",
       "2      12636\n",
       "       ...  \n",
       "130      545\n",
       "19       324\n",
       "227       44\n",
       "152        1\n",
       "169        1\n",
       "Name: count, Length: 340, dtype: int64"
      ]
     },
     "execution_count": 14,
     "metadata": {},
     "output_type": "execute_result"
    }
   ],
   "source": [
    "# Investigate StoreCode column:\n",
    "df1a['StoreCode'].value_counts()"
   ]
  },
  {
   "cell_type": "code",
   "execution_count": 15,
   "id": "75423fed-c383-407c-81e8-76ba79783b53",
   "metadata": {
    "execution": {
     "iopub.execute_input": "2024-09-20T11:35:25.602628Z",
     "iopub.status.busy": "2024-09-20T11:35:25.602383Z",
     "iopub.status.idle": "2024-09-20T11:35:25.621644Z",
     "shell.execute_reply": "2024-09-20T11:35:25.620499Z",
     "shell.execute_reply.started": "2024-09-20T11:35:25.602603Z"
    }
   },
   "outputs": [
    {
     "data": {
      "text/plain": [
       "ProductCode\n",
       "149    54060\n",
       "218    36766\n",
       "221    32043\n",
       "168    26545\n",
       "205    24817\n",
       "       ...  \n",
       "261        1\n",
       "165        1\n",
       "182        1\n",
       "227        1\n",
       "310        1\n",
       "Name: count, Length: 317, dtype: int64"
      ]
     },
     "execution_count": 15,
     "metadata": {},
     "output_type": "execute_result"
    }
   ],
   "source": [
    "# Investigate ProductCode column:\n",
    "df1a['ProductCode'].value_counts()"
   ]
  },
  {
   "cell_type": "code",
   "execution_count": 16,
   "id": "9ea1d20f-6c48-4ae3-b6e3-3d6127522746",
   "metadata": {
    "execution": {
     "iopub.execute_input": "2024-09-20T11:35:25.622829Z",
     "iopub.status.busy": "2024-09-20T11:35:25.622556Z",
     "iopub.status.idle": "2024-09-20T11:35:25.686977Z",
     "shell.execute_reply": "2024-09-20T11:35:25.685404Z",
     "shell.execute_reply.started": "2024-09-20T11:35:25.622801Z"
    }
   },
   "outputs": [
    {
     "data": {
      "text/plain": [
       "count                          1873618\n",
       "mean     2015-04-14 10:09:35.587126528\n",
       "min                2015-01-01 00:00:00\n",
       "25%                2015-02-23 00:00:00\n",
       "50%                2015-04-13 00:00:00\n",
       "75%                2015-06-03 00:00:00\n",
       "max                2015-07-31 00:00:00\n",
       "Name: Date, dtype: object"
      ]
     },
     "execution_count": 16,
     "metadata": {},
     "output_type": "execute_result"
    }
   ],
   "source": [
    "# Describe Date:\n",
    "df1a['Date'].describe().T"
   ]
  },
  {
   "cell_type": "code",
   "execution_count": 17,
   "id": "8700a13c-f633-4c62-9e72-ba3568d20755",
   "metadata": {
    "execution": {
     "iopub.execute_input": "2024-09-20T11:35:25.688890Z",
     "iopub.status.busy": "2024-09-20T11:35:25.688442Z",
     "iopub.status.idle": "2024-09-20T11:35:25.778679Z",
     "shell.execute_reply": "2024-09-20T11:35:25.777097Z",
     "shell.execute_reply.started": "2024-09-20T11:35:25.688845Z"
    }
   },
   "outputs": [
    {
     "data": {
      "text/plain": [
       "count   1873618.0000\n",
       "mean          2.2466\n",
       "std           5.0290\n",
       "min         -60.0000\n",
       "10%           0.0000\n",
       "25%           0.0000\n",
       "50%           1.0000\n",
       "75%           2.0000\n",
       "90%           4.0000\n",
       "max         912.0000\n",
       "Name: SalesQuantity, dtype: float64"
      ]
     },
     "execution_count": 17,
     "metadata": {},
     "output_type": "execute_result"
    }
   ],
   "source": [
    "# Describe SalesQuantity:\n",
    "pd.options.display.float_format = '{:.4f}'.format\n",
    "df1a['SalesQuantity']\\\n",
    "\t.describe(percentiles=[0.1, 0.25, 0.5, 0.75, 0.9]).T"
   ]
  },
  {
   "cell_type": "code",
   "execution_count": 18,
   "id": "7b7d1485-ea6a-4de7-be2c-8855e33eecbb",
   "metadata": {
    "execution": {
     "iopub.execute_input": "2024-09-20T11:35:25.780752Z",
     "iopub.status.busy": "2024-09-20T11:35:25.780321Z",
     "iopub.status.idle": "2024-09-20T11:35:25.843692Z",
     "shell.execute_reply": "2024-09-20T11:35:25.842192Z",
     "shell.execute_reply.started": "2024-09-20T11:35:25.780690Z"
    }
   },
   "outputs": [
    {
     "data": {
      "text/plain": [
       "Promo1_yes    136600\n",
       "Promo2_yes    142613\n",
       "Promo3_yes    123720\n",
       "Promo4_yes    114358\n",
       "Promo5_yes         0\n",
       "Promo6_yes         0\n",
       "dtype: int64"
      ]
     },
     "execution_count": 18,
     "metadata": {},
     "output_type": "execute_result"
    }
   ],
   "source": [
    "# Get promo column information:\n",
    "promo_cols = [f'Promo{x}_yes' for x in range(1, 7)]\n",
    "df1a[promo_cols].sum()"
   ]
  },
  {
   "cell_type": "code",
   "execution_count": null,
   "id": "4c32a163-83d4-480c-af09-8712424cb76c",
   "metadata": {},
   "outputs": [],
   "source": [
    "df1a[' ']"
   ]
  },
  {
   "cell_type": "markdown",
   "id": "05f545ff-3489-4e49-82e7-342182a297d6",
   "metadata": {},
   "source": [
    "- There are 340 unique store codes. Store 331 has  the most records with  \n",
    "value of 17470.\n",
    "- There are 317 unique product codes. Prdouct 149 has the most records with  \n",
    "value of 54060\n",
    "- Data date range is from 2015-01-01 to 2015-07-31.  \n",
    "- Sales Quantity has mean value of 2.2466 with std 5.290. Most of the values  \n",
    "are in the range 0 to 4. We observe a extereme value of 912.\n",
    "- Assignment4.1a.csv data does not contain any values  regarding promo5 and  \n",
    "promo6 date range.\n",
    "- Most of the sales observed in Promo2 weeks.  \n",
    "-  "
   ]
  },
  {
   "cell_type": "markdown",
   "id": "09c505d6-e593-40e9-86aa-9a516ff787f6",
   "metadata": {},
   "source": [
    "Divide product and stores  into 3 clusters each. Product with higher  \n",
    "average weekly sale per store during non-promotion periods will be called  \n",
    "“Fast items” and items with lower weekly average sale per store will be  \n",
    "labeled as “Slow items”, items in between will be called “Medium items”.   \n",
    "Grouping parameters selection is left to you. Apply similar approach to  \n",
    "Stores as well."
   ]
  },
  {
   "cell_type": "code",
   "execution_count": 19,
   "id": "b026c4c6-b3ef-4790-9bb9-e45f763f52d5",
   "metadata": {
    "execution": {
     "iopub.execute_input": "2024-09-20T11:35:25.845990Z",
     "iopub.status.busy": "2024-09-20T11:35:25.845444Z",
     "iopub.status.idle": "2024-09-20T11:35:26.191333Z",
     "shell.execute_reply": "2024-09-20T11:35:26.189648Z",
     "shell.execute_reply.started": "2024-09-20T11:35:25.845948Z"
    }
   },
   "outputs": [],
   "source": [
    "# Obtain promotion periods from df1a: \n",
    "promo_indices = []\n",
    "for promo in promo_cols:\n",
    "\tpromo_indices\\\n",
    "\t\t.extend(df1a[df1a[promo] == True].index.tolist())\n",
    "\n",
    "# Generate no promotion data:\n",
    "df1a_no_promo = df1a.drop(index=promo_indices)"
   ]
  },
  {
   "cell_type": "code",
   "execution_count": 20,
   "id": "801ba554-ac40-4258-b927-a121787a6f12",
   "metadata": {
    "execution": {
     "iopub.execute_input": "2024-09-20T11:35:26.193506Z",
     "iopub.status.busy": "2024-09-20T11:35:26.193021Z",
     "iopub.status.idle": "2024-09-20T11:35:26.243077Z",
     "shell.execute_reply": "2024-09-20T11:35:26.241182Z",
     "shell.execute_reply.started": "2024-09-20T11:35:26.193443Z"
    }
   },
   "outputs": [
    {
     "data": {
      "text/plain": [
       "Promo1_yes    0\n",
       "Promo2_yes    0\n",
       "Promo3_yes    0\n",
       "Promo4_yes    0\n",
       "Promo5_yes    0\n",
       "Promo6_yes    0\n",
       "dtype: int64"
      ]
     },
     "execution_count": 20,
     "metadata": {},
     "output_type": "execute_result"
    }
   ],
   "source": [
    "# Validate no promotion:\n",
    "df1a_no_promo[promo_cols].sum()"
   ]
  },
  {
   "cell_type": "code",
   "execution_count": 21,
   "id": "bc3015eb-e653-4acc-8915-ae99aa586735",
   "metadata": {
    "execution": {
     "iopub.execute_input": "2024-09-20T11:35:26.245400Z",
     "iopub.status.busy": "2024-09-20T11:35:26.244917Z",
     "iopub.status.idle": "2024-09-20T11:35:26.474483Z",
     "shell.execute_reply": "2024-09-20T11:35:26.472368Z",
     "shell.execute_reply.started": "2024-09-20T11:35:26.245358Z"
    }
   },
   "outputs": [],
   "source": [
    "# Obtain product sales average per week (all stores):\n",
    "df1a_no_promo['WeeklyProductMeanSales'] = \\\n",
    "\tdf1a_no_promo[\n",
    "\t\t['WeekNumber', 'ProductCode', 'SalesQuantity']\n",
    "\t\t].groupby(by=['WeekNumber', 'ProductCode']).transform('mean')"
   ]
  },
  {
   "cell_type": "code",
   "execution_count": 22,
   "id": "42a6b61a-6f69-4251-91b4-ebcd07ec0845",
   "metadata": {
    "execution": {
     "iopub.execute_input": "2024-09-20T11:35:26.477264Z",
     "iopub.status.busy": "2024-09-20T11:35:26.476677Z",
     "iopub.status.idle": "2024-09-20T11:35:26.512767Z",
     "shell.execute_reply": "2024-09-20T11:35:26.509919Z",
     "shell.execute_reply.started": "2024-09-20T11:35:26.477197Z"
    }
   },
   "outputs": [
    {
     "data": {
      "text/html": [
       "<div>\n",
       "<style scoped>\n",
       "    .dataframe tbody tr th:only-of-type {\n",
       "        vertical-align: middle;\n",
       "    }\n",
       "\n",
       "    .dataframe tbody tr th {\n",
       "        vertical-align: top;\n",
       "    }\n",
       "\n",
       "    .dataframe thead th {\n",
       "        text-align: right;\n",
       "    }\n",
       "</style>\n",
       "<table border=\"1\" class=\"dataframe\">\n",
       "  <thead>\n",
       "    <tr style=\"text-align: right;\">\n",
       "      <th></th>\n",
       "      <th>Date</th>\n",
       "      <th>StoreCode</th>\n",
       "      <th>ProductCode</th>\n",
       "      <th>SalesQuantity</th>\n",
       "      <th>WeekNumber</th>\n",
       "      <th>Promo1_yes</th>\n",
       "      <th>Promo2_yes</th>\n",
       "      <th>Promo3_yes</th>\n",
       "      <th>Promo4_yes</th>\n",
       "      <th>Promo5_yes</th>\n",
       "      <th>Promo6_yes</th>\n",
       "      <th>WeeklyProductMeanSales</th>\n",
       "    </tr>\n",
       "  </thead>\n",
       "  <tbody>\n",
       "    <tr>\n",
       "      <th>0</th>\n",
       "      <td>2015-01-01</td>\n",
       "      <td>8</td>\n",
       "      <td>9</td>\n",
       "      <td>-1</td>\n",
       "      <td>1</td>\n",
       "      <td>False</td>\n",
       "      <td>False</td>\n",
       "      <td>False</td>\n",
       "      <td>False</td>\n",
       "      <td>False</td>\n",
       "      <td>False</td>\n",
       "      <td>0.6471</td>\n",
       "    </tr>\n",
       "    <tr>\n",
       "      <th>1</th>\n",
       "      <td>2015-01-01</td>\n",
       "      <td>131</td>\n",
       "      <td>9</td>\n",
       "      <td>1</td>\n",
       "      <td>1</td>\n",
       "      <td>False</td>\n",
       "      <td>False</td>\n",
       "      <td>False</td>\n",
       "      <td>False</td>\n",
       "      <td>False</td>\n",
       "      <td>False</td>\n",
       "      <td>0.6471</td>\n",
       "    </tr>\n",
       "    <tr>\n",
       "      <th>2</th>\n",
       "      <td>2015-01-01</td>\n",
       "      <td>144</td>\n",
       "      <td>9</td>\n",
       "      <td>2</td>\n",
       "      <td>1</td>\n",
       "      <td>False</td>\n",
       "      <td>False</td>\n",
       "      <td>False</td>\n",
       "      <td>False</td>\n",
       "      <td>False</td>\n",
       "      <td>False</td>\n",
       "      <td>0.6471</td>\n",
       "    </tr>\n",
       "    <tr>\n",
       "      <th>3</th>\n",
       "      <td>2015-01-01</td>\n",
       "      <td>203</td>\n",
       "      <td>9</td>\n",
       "      <td>2</td>\n",
       "      <td>1</td>\n",
       "      <td>False</td>\n",
       "      <td>False</td>\n",
       "      <td>False</td>\n",
       "      <td>False</td>\n",
       "      <td>False</td>\n",
       "      <td>False</td>\n",
       "      <td>0.6471</td>\n",
       "    </tr>\n",
       "    <tr>\n",
       "      <th>4</th>\n",
       "      <td>2015-01-01</td>\n",
       "      <td>256</td>\n",
       "      <td>9</td>\n",
       "      <td>0</td>\n",
       "      <td>1</td>\n",
       "      <td>False</td>\n",
       "      <td>False</td>\n",
       "      <td>False</td>\n",
       "      <td>False</td>\n",
       "      <td>False</td>\n",
       "      <td>False</td>\n",
       "      <td>0.6471</td>\n",
       "    </tr>\n",
       "    <tr>\n",
       "      <th>...</th>\n",
       "      <td>...</td>\n",
       "      <td>...</td>\n",
       "      <td>...</td>\n",
       "      <td>...</td>\n",
       "      <td>...</td>\n",
       "      <td>...</td>\n",
       "      <td>...</td>\n",
       "      <td>...</td>\n",
       "      <td>...</td>\n",
       "      <td>...</td>\n",
       "      <td>...</td>\n",
       "      <td>...</td>\n",
       "    </tr>\n",
       "    <tr>\n",
       "      <th>1873613</th>\n",
       "      <td>2015-07-30</td>\n",
       "      <td>292</td>\n",
       "      <td>315</td>\n",
       "      <td>0</td>\n",
       "      <td>31</td>\n",
       "      <td>False</td>\n",
       "      <td>False</td>\n",
       "      <td>False</td>\n",
       "      <td>False</td>\n",
       "      <td>False</td>\n",
       "      <td>False</td>\n",
       "      <td>0.4359</td>\n",
       "    </tr>\n",
       "    <tr>\n",
       "      <th>1873614</th>\n",
       "      <td>2015-07-31</td>\n",
       "      <td>12</td>\n",
       "      <td>315</td>\n",
       "      <td>1</td>\n",
       "      <td>31</td>\n",
       "      <td>False</td>\n",
       "      <td>False</td>\n",
       "      <td>False</td>\n",
       "      <td>False</td>\n",
       "      <td>False</td>\n",
       "      <td>False</td>\n",
       "      <td>0.4359</td>\n",
       "    </tr>\n",
       "    <tr>\n",
       "      <th>1873615</th>\n",
       "      <td>2015-07-31</td>\n",
       "      <td>104</td>\n",
       "      <td>315</td>\n",
       "      <td>1</td>\n",
       "      <td>31</td>\n",
       "      <td>False</td>\n",
       "      <td>False</td>\n",
       "      <td>False</td>\n",
       "      <td>False</td>\n",
       "      <td>False</td>\n",
       "      <td>False</td>\n",
       "      <td>0.4359</td>\n",
       "    </tr>\n",
       "    <tr>\n",
       "      <th>1873616</th>\n",
       "      <td>2015-07-31</td>\n",
       "      <td>261</td>\n",
       "      <td>315</td>\n",
       "      <td>1</td>\n",
       "      <td>31</td>\n",
       "      <td>False</td>\n",
       "      <td>False</td>\n",
       "      <td>False</td>\n",
       "      <td>False</td>\n",
       "      <td>False</td>\n",
       "      <td>False</td>\n",
       "      <td>0.4359</td>\n",
       "    </tr>\n",
       "    <tr>\n",
       "      <th>1873617</th>\n",
       "      <td>2015-07-31</td>\n",
       "      <td>295</td>\n",
       "      <td>315</td>\n",
       "      <td>1</td>\n",
       "      <td>31</td>\n",
       "      <td>False</td>\n",
       "      <td>False</td>\n",
       "      <td>False</td>\n",
       "      <td>False</td>\n",
       "      <td>False</td>\n",
       "      <td>False</td>\n",
       "      <td>0.4359</td>\n",
       "    </tr>\n",
       "  </tbody>\n",
       "</table>\n",
       "<p>1356327 rows × 12 columns</p>\n",
       "</div>"
      ],
      "text/plain": [
       "              Date  StoreCode  ProductCode  SalesQuantity  WeekNumber  \\\n",
       "0       2015-01-01          8            9             -1           1   \n",
       "1       2015-01-01        131            9              1           1   \n",
       "2       2015-01-01        144            9              2           1   \n",
       "3       2015-01-01        203            9              2           1   \n",
       "4       2015-01-01        256            9              0           1   \n",
       "...            ...        ...          ...            ...         ...   \n",
       "1873613 2015-07-30        292          315              0          31   \n",
       "1873614 2015-07-31         12          315              1          31   \n",
       "1873615 2015-07-31        104          315              1          31   \n",
       "1873616 2015-07-31        261          315              1          31   \n",
       "1873617 2015-07-31        295          315              1          31   \n",
       "\n",
       "         Promo1_yes  Promo2_yes  Promo3_yes  Promo4_yes  Promo5_yes  \\\n",
       "0             False       False       False       False       False   \n",
       "1             False       False       False       False       False   \n",
       "2             False       False       False       False       False   \n",
       "3             False       False       False       False       False   \n",
       "4             False       False       False       False       False   \n",
       "...             ...         ...         ...         ...         ...   \n",
       "1873613       False       False       False       False       False   \n",
       "1873614       False       False       False       False       False   \n",
       "1873615       False       False       False       False       False   \n",
       "1873616       False       False       False       False       False   \n",
       "1873617       False       False       False       False       False   \n",
       "\n",
       "         Promo6_yes  WeeklyProductMeanSales  \n",
       "0             False                  0.6471  \n",
       "1             False                  0.6471  \n",
       "2             False                  0.6471  \n",
       "3             False                  0.6471  \n",
       "4             False                  0.6471  \n",
       "...             ...                     ...  \n",
       "1873613       False                  0.4359  \n",
       "1873614       False                  0.4359  \n",
       "1873615       False                  0.4359  \n",
       "1873616       False                  0.4359  \n",
       "1873617       False                  0.4359  \n",
       "\n",
       "[1356327 rows x 12 columns]"
      ]
     },
     "execution_count": 22,
     "metadata": {},
     "output_type": "execute_result"
    }
   ],
   "source": [
    "df1a_no_promo"
   ]
  },
  {
   "cell_type": "code",
   "execution_count": 23,
   "id": "f415c08f-fb1c-4fb4-bf85-d883de08dc5c",
   "metadata": {
    "execution": {
     "iopub.execute_input": "2024-09-20T11:35:26.515902Z",
     "iopub.status.busy": "2024-09-20T11:35:26.515214Z",
     "iopub.status.idle": "2024-09-20T11:35:26.827479Z",
     "shell.execute_reply": "2024-09-20T11:35:26.825894Z",
     "shell.execute_reply.started": "2024-09-20T11:35:26.515836Z"
    }
   },
   "outputs": [],
   "source": [
    "# Obtain product sales average per week (all stores):\n",
    "df1a_no_promo['WeeklyProductMeanSales'] = \\\n",
    "\tdf1a_no_promo[\n",
    "\t\t['WeekNumber', 'ProductCode', 'SalesQuantity']\n",
    "\t\t].groupby(by=['WeekNumber', 'ProductCode']).transform('mean')"
   ]
  },
  {
   "cell_type": "code",
   "execution_count": 24,
   "id": "8a4b6f6c-347c-4988-89df-3b166236a3c9",
   "metadata": {
    "execution": {
     "iopub.execute_input": "2024-09-20T11:35:26.829932Z",
     "iopub.status.busy": "2024-09-20T11:35:26.829489Z",
     "iopub.status.idle": "2024-09-20T11:35:27.069928Z",
     "shell.execute_reply": "2024-09-20T11:35:27.068438Z",
     "shell.execute_reply.started": "2024-09-20T11:35:26.829888Z"
    }
   },
   "outputs": [],
   "source": [
    "# Obtain product sales average per store (all weeks):\n",
    "df1a_no_promo['ProductMeanSalesPerStore'] = \\\n",
    "\tdf1a_no_promo[\n",
    "\t\t['StoreCode', 'ProductCode', 'SalesQuantity']\n",
    "\t\t].groupby(by=['StoreCode', 'ProductCode']).transform('mean')"
   ]
  },
  {
   "cell_type": "code",
   "execution_count": 26,
   "id": "a3947661-5abb-4480-8840-cadf8948e5a1",
   "metadata": {
    "execution": {
     "iopub.execute_input": "2024-09-20T11:35:38.448077Z",
     "iopub.status.busy": "2024-09-20T11:35:38.447727Z",
     "iopub.status.idle": "2024-09-20T11:35:38.464034Z",
     "shell.execute_reply": "2024-09-20T11:35:38.462670Z",
     "shell.execute_reply.started": "2024-09-20T11:35:38.448053Z"
    }
   },
   "outputs": [
    {
     "data": {
      "text/html": [
       "<div>\n",
       "<style scoped>\n",
       "    .dataframe tbody tr th:only-of-type {\n",
       "        vertical-align: middle;\n",
       "    }\n",
       "\n",
       "    .dataframe tbody tr th {\n",
       "        vertical-align: top;\n",
       "    }\n",
       "\n",
       "    .dataframe thead th {\n",
       "        text-align: right;\n",
       "    }\n",
       "</style>\n",
       "<table border=\"1\" class=\"dataframe\">\n",
       "  <thead>\n",
       "    <tr style=\"text-align: right;\">\n",
       "      <th></th>\n",
       "      <th>Date</th>\n",
       "      <th>StoreCode</th>\n",
       "      <th>ProductCode</th>\n",
       "      <th>SalesQuantity</th>\n",
       "      <th>WeekNumber</th>\n",
       "      <th>Promo1_yes</th>\n",
       "      <th>Promo2_yes</th>\n",
       "      <th>Promo3_yes</th>\n",
       "      <th>Promo4_yes</th>\n",
       "      <th>Promo5_yes</th>\n",
       "      <th>Promo6_yes</th>\n",
       "      <th>WeeklyProductMeanSales</th>\n",
       "      <th>ProductMeanSalesPerStore</th>\n",
       "    </tr>\n",
       "  </thead>\n",
       "  <tbody>\n",
       "    <tr>\n",
       "      <th>0</th>\n",
       "      <td>2015-01-01</td>\n",
       "      <td>8</td>\n",
       "      <td>9</td>\n",
       "      <td>-1</td>\n",
       "      <td>1</td>\n",
       "      <td>False</td>\n",
       "      <td>False</td>\n",
       "      <td>False</td>\n",
       "      <td>False</td>\n",
       "      <td>False</td>\n",
       "      <td>False</td>\n",
       "      <td>0.6471</td>\n",
       "      <td>0.1111</td>\n",
       "    </tr>\n",
       "    <tr>\n",
       "      <th>1</th>\n",
       "      <td>2015-01-01</td>\n",
       "      <td>131</td>\n",
       "      <td>9</td>\n",
       "      <td>1</td>\n",
       "      <td>1</td>\n",
       "      <td>False</td>\n",
       "      <td>False</td>\n",
       "      <td>False</td>\n",
       "      <td>False</td>\n",
       "      <td>False</td>\n",
       "      <td>False</td>\n",
       "      <td>0.6471</td>\n",
       "      <td>0.1429</td>\n",
       "    </tr>\n",
       "    <tr>\n",
       "      <th>2</th>\n",
       "      <td>2015-01-01</td>\n",
       "      <td>144</td>\n",
       "      <td>9</td>\n",
       "      <td>2</td>\n",
       "      <td>1</td>\n",
       "      <td>False</td>\n",
       "      <td>False</td>\n",
       "      <td>False</td>\n",
       "      <td>False</td>\n",
       "      <td>False</td>\n",
       "      <td>False</td>\n",
       "      <td>0.6471</td>\n",
       "      <td>0.4286</td>\n",
       "    </tr>\n",
       "    <tr>\n",
       "      <th>3</th>\n",
       "      <td>2015-01-01</td>\n",
       "      <td>203</td>\n",
       "      <td>9</td>\n",
       "      <td>2</td>\n",
       "      <td>1</td>\n",
       "      <td>False</td>\n",
       "      <td>False</td>\n",
       "      <td>False</td>\n",
       "      <td>False</td>\n",
       "      <td>False</td>\n",
       "      <td>False</td>\n",
       "      <td>0.6471</td>\n",
       "      <td>0.7273</td>\n",
       "    </tr>\n",
       "    <tr>\n",
       "      <th>4</th>\n",
       "      <td>2015-01-01</td>\n",
       "      <td>256</td>\n",
       "      <td>9</td>\n",
       "      <td>0</td>\n",
       "      <td>1</td>\n",
       "      <td>False</td>\n",
       "      <td>False</td>\n",
       "      <td>False</td>\n",
       "      <td>False</td>\n",
       "      <td>False</td>\n",
       "      <td>False</td>\n",
       "      <td>0.6471</td>\n",
       "      <td>0.5000</td>\n",
       "    </tr>\n",
       "    <tr>\n",
       "      <th>...</th>\n",
       "      <td>...</td>\n",
       "      <td>...</td>\n",
       "      <td>...</td>\n",
       "      <td>...</td>\n",
       "      <td>...</td>\n",
       "      <td>...</td>\n",
       "      <td>...</td>\n",
       "      <td>...</td>\n",
       "      <td>...</td>\n",
       "      <td>...</td>\n",
       "      <td>...</td>\n",
       "      <td>...</td>\n",
       "      <td>...</td>\n",
       "    </tr>\n",
       "    <tr>\n",
       "      <th>1873613</th>\n",
       "      <td>2015-07-30</td>\n",
       "      <td>292</td>\n",
       "      <td>315</td>\n",
       "      <td>0</td>\n",
       "      <td>31</td>\n",
       "      <td>False</td>\n",
       "      <td>False</td>\n",
       "      <td>False</td>\n",
       "      <td>False</td>\n",
       "      <td>False</td>\n",
       "      <td>False</td>\n",
       "      <td>0.4359</td>\n",
       "      <td>0.2500</td>\n",
       "    </tr>\n",
       "    <tr>\n",
       "      <th>1873614</th>\n",
       "      <td>2015-07-31</td>\n",
       "      <td>12</td>\n",
       "      <td>315</td>\n",
       "      <td>1</td>\n",
       "      <td>31</td>\n",
       "      <td>False</td>\n",
       "      <td>False</td>\n",
       "      <td>False</td>\n",
       "      <td>False</td>\n",
       "      <td>False</td>\n",
       "      <td>False</td>\n",
       "      <td>0.4359</td>\n",
       "      <td>1.0000</td>\n",
       "    </tr>\n",
       "    <tr>\n",
       "      <th>1873615</th>\n",
       "      <td>2015-07-31</td>\n",
       "      <td>104</td>\n",
       "      <td>315</td>\n",
       "      <td>1</td>\n",
       "      <td>31</td>\n",
       "      <td>False</td>\n",
       "      <td>False</td>\n",
       "      <td>False</td>\n",
       "      <td>False</td>\n",
       "      <td>False</td>\n",
       "      <td>False</td>\n",
       "      <td>0.4359</td>\n",
       "      <td>0.5000</td>\n",
       "    </tr>\n",
       "    <tr>\n",
       "      <th>1873616</th>\n",
       "      <td>2015-07-31</td>\n",
       "      <td>261</td>\n",
       "      <td>315</td>\n",
       "      <td>1</td>\n",
       "      <td>31</td>\n",
       "      <td>False</td>\n",
       "      <td>False</td>\n",
       "      <td>False</td>\n",
       "      <td>False</td>\n",
       "      <td>False</td>\n",
       "      <td>False</td>\n",
       "      <td>0.4359</td>\n",
       "      <td>1.0000</td>\n",
       "    </tr>\n",
       "    <tr>\n",
       "      <th>1873617</th>\n",
       "      <td>2015-07-31</td>\n",
       "      <td>295</td>\n",
       "      <td>315</td>\n",
       "      <td>1</td>\n",
       "      <td>31</td>\n",
       "      <td>False</td>\n",
       "      <td>False</td>\n",
       "      <td>False</td>\n",
       "      <td>False</td>\n",
       "      <td>False</td>\n",
       "      <td>False</td>\n",
       "      <td>0.4359</td>\n",
       "      <td>0.5000</td>\n",
       "    </tr>\n",
       "  </tbody>\n",
       "</table>\n",
       "<p>1356327 rows × 13 columns</p>\n",
       "</div>"
      ],
      "text/plain": [
       "              Date  StoreCode  ProductCode  SalesQuantity  WeekNumber  \\\n",
       "0       2015-01-01          8            9             -1           1   \n",
       "1       2015-01-01        131            9              1           1   \n",
       "2       2015-01-01        144            9              2           1   \n",
       "3       2015-01-01        203            9              2           1   \n",
       "4       2015-01-01        256            9              0           1   \n",
       "...            ...        ...          ...            ...         ...   \n",
       "1873613 2015-07-30        292          315              0          31   \n",
       "1873614 2015-07-31         12          315              1          31   \n",
       "1873615 2015-07-31        104          315              1          31   \n",
       "1873616 2015-07-31        261          315              1          31   \n",
       "1873617 2015-07-31        295          315              1          31   \n",
       "\n",
       "         Promo1_yes  Promo2_yes  Promo3_yes  Promo4_yes  Promo5_yes  \\\n",
       "0             False       False       False       False       False   \n",
       "1             False       False       False       False       False   \n",
       "2             False       False       False       False       False   \n",
       "3             False       False       False       False       False   \n",
       "4             False       False       False       False       False   \n",
       "...             ...         ...         ...         ...         ...   \n",
       "1873613       False       False       False       False       False   \n",
       "1873614       False       False       False       False       False   \n",
       "1873615       False       False       False       False       False   \n",
       "1873616       False       False       False       False       False   \n",
       "1873617       False       False       False       False       False   \n",
       "\n",
       "         Promo6_yes  WeeklyProductMeanSales  ProductMeanSalesPerStore  \n",
       "0             False                  0.6471                    0.1111  \n",
       "1             False                  0.6471                    0.1429  \n",
       "2             False                  0.6471                    0.4286  \n",
       "3             False                  0.6471                    0.7273  \n",
       "4             False                  0.6471                    0.5000  \n",
       "...             ...                     ...                       ...  \n",
       "1873613       False                  0.4359                    0.2500  \n",
       "1873614       False                  0.4359                    1.0000  \n",
       "1873615       False                  0.4359                    0.5000  \n",
       "1873616       False                  0.4359                    1.0000  \n",
       "1873617       False                  0.4359                    0.5000  \n",
       "\n",
       "[1356327 rows x 13 columns]"
      ]
     },
     "execution_count": 26,
     "metadata": {},
     "output_type": "execute_result"
    }
   ],
   "source": [
    "df1a_no_promo"
   ]
  },
  {
   "cell_type": "code",
   "execution_count": 25,
   "id": "f29fc93e-e938-41bd-a19d-e4c303ecdc2c",
   "metadata": {
    "execution": {
     "iopub.execute_input": "2024-09-20T11:35:27.071900Z",
     "iopub.status.busy": "2024-09-20T11:35:27.071388Z",
     "iopub.status.idle": "2024-09-20T11:35:27.077371Z",
     "shell.execute_reply": "2024-09-20T11:35:27.075965Z",
     "shell.execute_reply.started": "2024-09-20T11:35:27.071859Z"
    }
   },
   "outputs": [],
   "source": [
    "# Pivot tables\n",
    "# pct change fucntions"
   ]
  },
  {
   "cell_type": "code",
   "execution_count": null,
   "id": "f56ba982-08d2-4903-9e04-43170c7f8873",
   "metadata": {},
   "outputs": [],
   "source": []
  }
 ],
 "metadata": {
  "kernelspec": {
   "display_name": "ISL",
   "language": "python",
   "name": "isl"
  },
  "language_info": {
   "codemirror_mode": {
    "name": "ipython",
    "version": 3
   },
   "file_extension": ".py",
   "mimetype": "text/x-python",
   "name": "python",
   "nbconvert_exporter": "python",
   "pygments_lexer": "ipython3",
   "version": "3.10.12"
  }
 },
 "nbformat": 4,
 "nbformat_minor": 5
}
