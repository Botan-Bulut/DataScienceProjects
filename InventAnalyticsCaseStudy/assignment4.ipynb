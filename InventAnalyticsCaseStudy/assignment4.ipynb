{
 "cells": [
  {
   "cell_type": "markdown",
   "id": "7bda144b-57c8-4b65-baea-bee8f83d676e",
   "metadata": {
    "execution": {
     "iopub.execute_input": "2024-09-19T15:29:31.056812Z",
     "iopub.status.busy": "2024-09-19T15:29:31.056123Z",
     "iopub.status.idle": "2024-09-19T15:29:31.059664Z",
     "shell.execute_reply": "2024-09-19T15:29:31.059284Z",
     "shell.execute_reply.started": "2024-09-19T15:29:31.056789Z"
    }
   },
   "source": [
    "# PROMOTION BUMP ASSIGNMENT\n",
    "date: 2024-09-19  \n",
    "Analist: Botan Fırat Bulut"
   ]
  },
  {
   "cell_type": "markdown",
   "id": "85175661-98be-4dcd-a09c-ee8643400590",
   "metadata": {
    "execution": {
     "iopub.execute_input": "2024-09-19T15:30:54.555881Z",
     "iopub.status.busy": "2024-09-19T15:30:54.555591Z",
     "iopub.status.idle": "2024-09-19T15:30:54.558702Z",
     "shell.execute_reply": "2024-09-19T15:30:54.558402Z",
     "shell.execute_reply.started": "2024-09-19T15:30:54.555862Z"
    }
   },
   "source": [
    "## IMPORTS AND SETUP"
   ]
  },
  {
   "cell_type": "code",
   "execution_count": 19,
   "id": "6cbe22de-3f9a-4399-8452-277933d5911f",
   "metadata": {
    "execution": {
     "iopub.execute_input": "2024-09-19T15:50:23.634851Z",
     "iopub.status.busy": "2024-09-19T15:50:23.634424Z",
     "iopub.status.idle": "2024-09-19T15:50:23.639443Z",
     "shell.execute_reply": "2024-09-19T15:50:23.638908Z",
     "shell.execute_reply.started": "2024-09-19T15:50:23.634831Z"
    }
   },
   "outputs": [],
   "source": [
    "# Imports:\n",
    "import numpy as np\n",
    "import pandas as pd\n",
    "import matplotlib.pyplot as plt\n",
    "import seaborn as sns\n",
    "import warnings\n",
    "\n",
    "# Ignoner harmless warnings:\n",
    "warnings.filterwarnings('ignore')\n",
    "\n",
    "# Plot rcParams:\n",
    "plt.rcParams['figure.figsize'] = (15, 7)\n",
    "plt.rcParams['figure.dpi'] = 144\n",
    "plt.rcParams['figure.titlesize'] = 22\n",
    "plt.rcParams['figure.titleweight'] = 'bold'\n",
    "plt.rcParams['axes.titlesize'] = 22\n",
    "plt.rcParams['axes.titleweight'] = 'bold'\n",
    "plt.style.use('ggplot')"
   ]
  },
  {
   "cell_type": "markdown",
   "id": "62378c33-d68b-4b46-b55a-26e67930f28c",
   "metadata": {
    "execution": {
     "iopub.execute_input": "2024-09-19T15:33:59.800933Z",
     "iopub.status.busy": "2024-09-19T15:33:59.800480Z",
     "iopub.status.idle": "2024-09-19T15:33:59.804029Z",
     "shell.execute_reply": "2024-09-19T15:33:59.803485Z",
     "shell.execute_reply.started": "2024-09-19T15:33:59.800912Z"
    }
   },
   "source": [
    "### Data = assignment4.1a.csv\n",
    "The data contains daily sales of sample of items in several stores on  \n",
    "a specific time frame. Negative sale quantities represents returns.  \n",
    "Each row represents a sale (or return) activity for an item in a store at  \n",
    "a specific day. If a store-item combination has no observation in a  \n",
    "certain day you can assume there is no sales for that item at that   \n",
    "store at that day."
   ]
  },
  {
   "cell_type": "code",
   "execution_count": 20,
   "id": "4ce5dc53-33ee-47f7-b60f-d3385f07700a",
   "metadata": {
    "execution": {
     "iopub.execute_input": "2024-09-19T15:50:24.378156Z",
     "iopub.status.busy": "2024-09-19T15:50:24.377839Z",
     "iopub.status.idle": "2024-09-19T15:50:24.792241Z",
     "shell.execute_reply": "2024-09-19T15:50:24.791739Z",
     "shell.execute_reply.started": "2024-09-19T15:50:24.378135Z"
    }
   },
   "outputs": [
    {
     "data": {
      "text/html": [
       "<div>\n",
       "<style scoped>\n",
       "    .dataframe tbody tr th:only-of-type {\n",
       "        vertical-align: middle;\n",
       "    }\n",
       "\n",
       "    .dataframe tbody tr th {\n",
       "        vertical-align: top;\n",
       "    }\n",
       "\n",
       "    .dataframe thead th {\n",
       "        text-align: right;\n",
       "    }\n",
       "</style>\n",
       "<table border=\"1\" class=\"dataframe\">\n",
       "  <thead>\n",
       "    <tr style=\"text-align: right;\">\n",
       "      <th></th>\n",
       "      <th>Date</th>\n",
       "      <th>StoreCode</th>\n",
       "      <th>ProductCode</th>\n",
       "      <th>SalesQuantity</th>\n",
       "    </tr>\n",
       "  </thead>\n",
       "  <tbody>\n",
       "    <tr>\n",
       "      <th>0</th>\n",
       "      <td>2015-01-01</td>\n",
       "      <td>8</td>\n",
       "      <td>9</td>\n",
       "      <td>-1</td>\n",
       "    </tr>\n",
       "    <tr>\n",
       "      <th>1</th>\n",
       "      <td>2015-01-01</td>\n",
       "      <td>131</td>\n",
       "      <td>9</td>\n",
       "      <td>1</td>\n",
       "    </tr>\n",
       "    <tr>\n",
       "      <th>2</th>\n",
       "      <td>2015-01-01</td>\n",
       "      <td>144</td>\n",
       "      <td>9</td>\n",
       "      <td>2</td>\n",
       "    </tr>\n",
       "    <tr>\n",
       "      <th>3</th>\n",
       "      <td>2015-01-01</td>\n",
       "      <td>203</td>\n",
       "      <td>9</td>\n",
       "      <td>2</td>\n",
       "    </tr>\n",
       "    <tr>\n",
       "      <th>4</th>\n",
       "      <td>2015-01-01</td>\n",
       "      <td>256</td>\n",
       "      <td>9</td>\n",
       "      <td>0</td>\n",
       "    </tr>\n",
       "  </tbody>\n",
       "</table>\n",
       "</div>"
      ],
      "text/plain": [
       "         Date  StoreCode  ProductCode  SalesQuantity\n",
       "0  2015-01-01          8            9             -1\n",
       "1  2015-01-01        131            9              1\n",
       "2  2015-01-01        144            9              2\n",
       "3  2015-01-01        203            9              2\n",
       "4  2015-01-01        256            9              0"
      ]
     },
     "execution_count": 20,
     "metadata": {},
     "output_type": "execute_result"
    }
   ],
   "source": [
    "# Read assignment4.1a.csv:\n",
    "df1a = pd.read_csv('./assignment4.1a.csv')\n",
    "df1a.head()"
   ]
  },
  {
   "cell_type": "code",
   "execution_count": 21,
   "id": "19008428-8f91-4698-9992-672f57908527",
   "metadata": {
    "execution": {
     "iopub.execute_input": "2024-09-19T15:50:24.929946Z",
     "iopub.status.busy": "2024-09-19T15:50:24.929630Z",
     "iopub.status.idle": "2024-09-19T15:50:24.938090Z",
     "shell.execute_reply": "2024-09-19T15:50:24.937452Z",
     "shell.execute_reply.started": "2024-09-19T15:50:24.929918Z"
    }
   },
   "outputs": [
    {
     "name": "stdout",
     "output_type": "stream",
     "text": [
      "<class 'pandas.core.frame.DataFrame'>\n",
      "RangeIndex: 1873618 entries, 0 to 1873617\n",
      "Data columns (total 4 columns):\n",
      " #   Column         Dtype \n",
      "---  ------         ----- \n",
      " 0   Date           object\n",
      " 1   StoreCode      int64 \n",
      " 2   ProductCode    int64 \n",
      " 3   SalesQuantity  int64 \n",
      "dtypes: int64(3), object(1)\n",
      "memory usage: 57.2+ MB\n"
     ]
    }
   ],
   "source": [
    "# df1a information:\n",
    "df1a.info()"
   ]
  },
  {
   "cell_type": "code",
   "execution_count": 22,
   "id": "60142a13-106c-463b-af14-54353feed8ed",
   "metadata": {
    "execution": {
     "iopub.execute_input": "2024-09-19T15:50:25.493784Z",
     "iopub.status.busy": "2024-09-19T15:50:25.493469Z",
     "iopub.status.idle": "2024-09-19T15:50:25.550713Z",
     "shell.execute_reply": "2024-09-19T15:50:25.549788Z",
     "shell.execute_reply.started": "2024-09-19T15:50:25.493764Z"
    }
   },
   "outputs": [
    {
     "data": {
      "text/plain": [
       "Date             0\n",
       "StoreCode        0\n",
       "ProductCode      0\n",
       "SalesQuantity    0\n",
       "dtype: int64"
      ]
     },
     "execution_count": 22,
     "metadata": {},
     "output_type": "execute_result"
    }
   ],
   "source": [
    "# df1a null values:\n",
    "df1a.isnull().sum()"
   ]
  },
  {
   "cell_type": "markdown",
   "id": "44bd49de-dedd-475b-b960-29ea27aeb305",
   "metadata": {},
   "source": [
    "The assignment4.1a.csv contains 3 columns with 1,873,618 records.  \n",
    "It does not contain any missing values."
   ]
  },
  {
   "cell_type": "code",
   "execution_count": null,
   "id": "8636cc7f-0f9b-43a5-97ba-2e5a9b2ca403",
   "metadata": {},
   "outputs": [],
   "source": [
    "df_promotion = "
   ]
  }
 ],
 "metadata": {
  "kernelspec": {
   "display_name": "ISL",
   "language": "python",
   "name": "isl"
  },
  "language_info": {
   "codemirror_mode": {
    "name": "ipython",
    "version": 3
   },
   "file_extension": ".py",
   "mimetype": "text/x-python",
   "name": "python",
   "nbconvert_exporter": "python",
   "pygments_lexer": "ipython3",
   "version": "3.10.12"
  }
 },
 "nbformat": 4,
 "nbformat_minor": 5
}
