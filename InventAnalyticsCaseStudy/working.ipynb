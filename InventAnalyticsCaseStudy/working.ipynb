{
 "cells": [
  {
   "cell_type": "markdown",
   "id": "447485c4-c260-479e-87d8-b9fe29e0731e",
   "metadata": {},
   "source": [
    "# PROMOTION BUMP ASSIGNMENT\n",
    "**Date:** 2024-09-19  \n",
    "**Data Scientist:** Botan Fırat BULUT"
   ]
  },
  {
   "cell_type": "markdown",
   "id": "24d4b0e6-df6c-4cf5-9ed4-2f4b83e64d58",
   "metadata": {},
   "source": [
    "## IMPORTS AND SETUP"
   ]
  },
  {
   "cell_type": "code",
   "execution_count": 122,
   "id": "61d2ea6e-27c9-43f8-bbcd-3f3e1a2f7b1e",
   "metadata": {
    "execution": {
     "iopub.execute_input": "2024-09-23T20:25:26.337073Z",
     "iopub.status.busy": "2024-09-23T20:25:26.336940Z",
     "iopub.status.idle": "2024-09-23T20:25:27.202611Z",
     "shell.execute_reply": "2024-09-23T20:25:27.201975Z",
     "shell.execute_reply.started": "2024-09-23T20:25:26.337055Z"
    }
   },
   "outputs": [],
   "source": [
    "# Imports:\n",
    "import numpy as np\n",
    "import pandas as pd\n",
    "import matplotlib.pyplot as plt\n",
    "import seaborn as sns\n",
    "import warnings\n",
    "\n",
    "# Ignone harmless warnings:\n",
    "warnings.filterwarnings('ignore')\n",
    "\n",
    "# Round float columns to 4 decimal places:\n",
    "pd.options.display.float_format = '{:.4f}'.format\n",
    "\n",
    "# Plot rcParams:\n",
    "plt.rcParams['figure.figsize'] = (15, 7)\n",
    "plt.rcParams['figure.dpi'] = 144\n",
    "plt.rcParams['figure.titlesize'] = 22\n",
    "plt.rcParams['figure.titleweight'] = 'bold'\n",
    "plt.rcParams['axes.titlesize'] = 22\n",
    "plt.rcParams['axes.titleweight'] = 'bold'\n",
    "plt.style.use('seaborn-v0_8')"
   ]
  },
  {
   "cell_type": "markdown",
   "id": "6d470bf2-e8e3-4ad9-82ce-11b3f863d1bc",
   "metadata": {},
   "source": [
    "Data = Assignment4.1a.csv\n",
    "The data contains daily sales of sample of items in several stores on a specific time frame. Negative sale quantities represents returns. Each row represents a sale (or return) activity for an item in a store at a specific day. If a store-item combination has no observation in a certain day you can assume there is no sales for that item at that store at that day."
   ]
  },
  {
   "cell_type": "code",
   "execution_count": 123,
   "id": "75b8cd2b-9f0a-48de-b51a-12b0798dc018",
   "metadata": {
    "execution": {
     "iopub.execute_input": "2024-09-23T20:25:27.203594Z",
     "iopub.status.busy": "2024-09-23T20:25:27.203356Z",
     "iopub.status.idle": "2024-09-23T20:25:27.604819Z",
     "shell.execute_reply": "2024-09-23T20:25:27.604281Z",
     "shell.execute_reply.started": "2024-09-23T20:25:27.203577Z"
    }
   },
   "outputs": [
    {
     "data": {
      "text/html": [
       "<div>\n",
       "<style scoped>\n",
       "    .dataframe tbody tr th:only-of-type {\n",
       "        vertical-align: middle;\n",
       "    }\n",
       "\n",
       "    .dataframe tbody tr th {\n",
       "        vertical-align: top;\n",
       "    }\n",
       "\n",
       "    .dataframe thead th {\n",
       "        text-align: right;\n",
       "    }\n",
       "</style>\n",
       "<table border=\"1\" class=\"dataframe\">\n",
       "  <thead>\n",
       "    <tr style=\"text-align: right;\">\n",
       "      <th></th>\n",
       "      <th>Date</th>\n",
       "      <th>StoreCode</th>\n",
       "      <th>ProductCode</th>\n",
       "      <th>SalesQuantity</th>\n",
       "    </tr>\n",
       "  </thead>\n",
       "  <tbody>\n",
       "    <tr>\n",
       "      <th>0</th>\n",
       "      <td>2015-01-01</td>\n",
       "      <td>8</td>\n",
       "      <td>9</td>\n",
       "      <td>-1</td>\n",
       "    </tr>\n",
       "    <tr>\n",
       "      <th>1</th>\n",
       "      <td>2015-01-01</td>\n",
       "      <td>131</td>\n",
       "      <td>9</td>\n",
       "      <td>1</td>\n",
       "    </tr>\n",
       "    <tr>\n",
       "      <th>2</th>\n",
       "      <td>2015-01-01</td>\n",
       "      <td>144</td>\n",
       "      <td>9</td>\n",
       "      <td>2</td>\n",
       "    </tr>\n",
       "    <tr>\n",
       "      <th>3</th>\n",
       "      <td>2015-01-01</td>\n",
       "      <td>203</td>\n",
       "      <td>9</td>\n",
       "      <td>2</td>\n",
       "    </tr>\n",
       "    <tr>\n",
       "      <th>4</th>\n",
       "      <td>2015-01-01</td>\n",
       "      <td>256</td>\n",
       "      <td>9</td>\n",
       "      <td>0</td>\n",
       "    </tr>\n",
       "  </tbody>\n",
       "</table>\n",
       "</div>"
      ],
      "text/plain": [
       "         Date  StoreCode  ProductCode  SalesQuantity\n",
       "0  2015-01-01          8            9             -1\n",
       "1  2015-01-01        131            9              1\n",
       "2  2015-01-01        144            9              2\n",
       "3  2015-01-01        203            9              2\n",
       "4  2015-01-01        256            9              0"
      ]
     },
     "execution_count": 123,
     "metadata": {},
     "output_type": "execute_result"
    }
   ],
   "source": [
    "# Read assignment4.1a.csv:\n",
    "df1a = pd.read_csv('./assignment4.1a.csv')\n",
    "df1a.head()"
   ]
  },
  {
   "cell_type": "code",
   "execution_count": 124,
   "id": "172a1d9d-f8a9-43a4-a809-f787d6f72827",
   "metadata": {
    "execution": {
     "iopub.execute_input": "2024-09-23T20:25:27.606463Z",
     "iopub.status.busy": "2024-09-23T20:25:27.606275Z",
     "iopub.status.idle": "2024-09-23T20:25:27.613936Z",
     "shell.execute_reply": "2024-09-23T20:25:27.613411Z",
     "shell.execute_reply.started": "2024-09-23T20:25:27.606441Z"
    }
   },
   "outputs": [
    {
     "name": "stdout",
     "output_type": "stream",
     "text": [
      "<class 'pandas.core.frame.DataFrame'>\n",
      "RangeIndex: 1873618 entries, 0 to 1873617\n",
      "Data columns (total 4 columns):\n",
      " #   Column         Dtype \n",
      "---  ------         ----- \n",
      " 0   Date           object\n",
      " 1   StoreCode      int64 \n",
      " 2   ProductCode    int64 \n",
      " 3   SalesQuantity  int64 \n",
      "dtypes: int64(3), object(1)\n",
      "memory usage: 57.2+ MB\n"
     ]
    }
   ],
   "source": [
    "# Df1a infomation:\n",
    "df1a.info()"
   ]
  },
  {
   "cell_type": "code",
   "execution_count": 125,
   "id": "be8a1be3-cbb9-4559-8862-42f5b0261fd6",
   "metadata": {
    "execution": {
     "iopub.execute_input": "2024-09-23T20:25:27.614880Z",
     "iopub.status.busy": "2024-09-23T20:25:27.614713Z",
     "iopub.status.idle": "2024-09-23T20:25:27.770974Z",
     "shell.execute_reply": "2024-09-23T20:25:27.770476Z",
     "shell.execute_reply.started": "2024-09-23T20:25:27.614864Z"
    }
   },
   "outputs": [
    {
     "data": {
      "text/html": [
       "<div>\n",
       "<style scoped>\n",
       "    .dataframe tbody tr th:only-of-type {\n",
       "        vertical-align: middle;\n",
       "    }\n",
       "\n",
       "    .dataframe tbody tr th {\n",
       "        vertical-align: top;\n",
       "    }\n",
       "\n",
       "    .dataframe thead th {\n",
       "        text-align: right;\n",
       "    }\n",
       "</style>\n",
       "<table border=\"1\" class=\"dataframe\">\n",
       "  <thead>\n",
       "    <tr style=\"text-align: right;\">\n",
       "      <th></th>\n",
       "      <th>count</th>\n",
       "      <th>mean</th>\n",
       "      <th>std</th>\n",
       "      <th>min</th>\n",
       "      <th>25%</th>\n",
       "      <th>50%</th>\n",
       "      <th>75%</th>\n",
       "      <th>max</th>\n",
       "    </tr>\n",
       "  </thead>\n",
       "  <tbody>\n",
       "    <tr>\n",
       "      <th>StoreCode</th>\n",
       "      <td>1873618.0000</td>\n",
       "      <td>171.1288</td>\n",
       "      <td>101.4606</td>\n",
       "      <td>1.0000</td>\n",
       "      <td>81.0000</td>\n",
       "      <td>170.0000</td>\n",
       "      <td>264.0000</td>\n",
       "      <td>340.0000</td>\n",
       "    </tr>\n",
       "    <tr>\n",
       "      <th>ProductCode</th>\n",
       "      <td>1873618.0000</td>\n",
       "      <td>166.3533</td>\n",
       "      <td>77.7328</td>\n",
       "      <td>1.0000</td>\n",
       "      <td>105.0000</td>\n",
       "      <td>173.0000</td>\n",
       "      <td>219.0000</td>\n",
       "      <td>317.0000</td>\n",
       "    </tr>\n",
       "    <tr>\n",
       "      <th>SalesQuantity</th>\n",
       "      <td>1873618.0000</td>\n",
       "      <td>2.2466</td>\n",
       "      <td>5.0290</td>\n",
       "      <td>-60.0000</td>\n",
       "      <td>0.0000</td>\n",
       "      <td>1.0000</td>\n",
       "      <td>2.0000</td>\n",
       "      <td>912.0000</td>\n",
       "    </tr>\n",
       "  </tbody>\n",
       "</table>\n",
       "</div>"
      ],
      "text/plain": [
       "                     count     mean      std      min      25%      50%  \\\n",
       "StoreCode     1873618.0000 171.1288 101.4606   1.0000  81.0000 170.0000   \n",
       "ProductCode   1873618.0000 166.3533  77.7328   1.0000 105.0000 173.0000   \n",
       "SalesQuantity 1873618.0000   2.2466   5.0290 -60.0000   0.0000   1.0000   \n",
       "\n",
       "                   75%      max  \n",
       "StoreCode     264.0000 340.0000  \n",
       "ProductCode   219.0000 317.0000  \n",
       "SalesQuantity   2.0000 912.0000  "
      ]
     },
     "execution_count": 125,
     "metadata": {},
     "output_type": "execute_result"
    }
   ],
   "source": [
    "# Descriptive Statistics:\n",
    "df1a.describe().T"
   ]
  },
  {
   "cell_type": "code",
   "execution_count": 126,
   "id": "9934017a-ad95-431f-ab81-624b008d9c7d",
   "metadata": {
    "execution": {
     "iopub.execute_input": "2024-09-23T20:25:27.771940Z",
     "iopub.status.busy": "2024-09-23T20:25:27.771771Z",
     "iopub.status.idle": "2024-09-23T20:25:27.784585Z",
     "shell.execute_reply": "2024-09-23T20:25:27.783739Z",
     "shell.execute_reply.started": "2024-09-23T20:25:27.771912Z"
    }
   },
   "outputs": [
    {
     "name": "stdout",
     "output_type": "stream",
     "text": [
      "<class 'pandas.core.frame.DataFrame'>\n",
      "RangeIndex: 1873618 entries, 0 to 1873617\n",
      "Data columns (total 4 columns):\n",
      " #   Column         Dtype \n",
      "---  ------         ----- \n",
      " 0   Date           object\n",
      " 1   StoreCode      uint16\n",
      " 2   ProductCode    uint16\n",
      " 3   SalesQuantity  int64 \n",
      "dtypes: int64(1), object(1), uint16(2)\n",
      "memory usage: 35.7+ MB\n"
     ]
    }
   ],
   "source": [
    "# Fix columns data type for computational and memory efficiency:\n",
    "df1a['StoreCode'] = df1a['StoreCode'].astype('uint16')\n",
    "df1a['ProductCode'] = df1a['ProductCode'].astype('uint16')\n",
    "df1a.info()"
   ]
  },
  {
   "cell_type": "code",
   "execution_count": 127,
   "id": "dd8ea695-1244-48df-bf61-b1e6de989bcc",
   "metadata": {
    "execution": {
     "iopub.execute_input": "2024-09-23T20:25:27.785832Z",
     "iopub.status.busy": "2024-09-23T20:25:27.785586Z",
     "iopub.status.idle": "2024-09-23T20:25:27.840770Z",
     "shell.execute_reply": "2024-09-23T20:25:27.840193Z",
     "shell.execute_reply.started": "2024-09-23T20:25:27.785809Z"
    }
   },
   "outputs": [
    {
     "data": {
      "text/plain": [
       "Date             0\n",
       "StoreCode        0\n",
       "ProductCode      0\n",
       "SalesQuantity    0\n",
       "dtype: int64"
      ]
     },
     "execution_count": 127,
     "metadata": {},
     "output_type": "execute_result"
    }
   ],
   "source": [
    "# Check the null values:\n",
    "df1a.isnull().sum()"
   ]
  },
  {
   "cell_type": "code",
   "execution_count": 128,
   "id": "64300470-676b-40b1-abd4-2ef38d6c3254",
   "metadata": {
    "execution": {
     "iopub.execute_input": "2024-09-23T20:25:27.841586Z",
     "iopub.status.busy": "2024-09-23T20:25:27.841432Z",
     "iopub.status.idle": "2024-09-23T20:25:27.982022Z",
     "shell.execute_reply": "2024-09-23T20:25:27.981414Z",
     "shell.execute_reply.started": "2024-09-23T20:25:27.841570Z"
    }
   },
   "outputs": [
    {
     "data": {
      "text/plain": [
       "count                          1873618\n",
       "mean     2015-04-14 10:09:35.587126528\n",
       "min                2015-01-01 00:00:00\n",
       "25%                2015-02-23 00:00:00\n",
       "50%                2015-04-13 00:00:00\n",
       "75%                2015-06-03 00:00:00\n",
       "max                2015-07-31 00:00:00\n",
       "Name: Date, dtype: object"
      ]
     },
     "execution_count": 128,
     "metadata": {},
     "output_type": "execute_result"
    }
   ],
   "source": [
    "# Convert Date Column:\n",
    "df1a['Date'] = pd.to_datetime(df1a['Date'],\n",
    "                             format='%Y-%m-%d')\n",
    "\n",
    "df1a['Date'].describe()"
   ]
  },
  {
   "cell_type": "code",
   "execution_count": 129,
   "id": "eda287bf-90e5-47da-a4b2-98d4ff60664b",
   "metadata": {
    "execution": {
     "iopub.execute_input": "2024-09-23T20:25:27.982935Z",
     "iopub.status.busy": "2024-09-23T20:25:27.982733Z",
     "iopub.status.idle": "2024-09-23T20:25:28.236677Z",
     "shell.execute_reply": "2024-09-23T20:25:28.236201Z",
     "shell.execute_reply.started": "2024-09-23T20:25:27.982913Z"
    }
   },
   "outputs": [
    {
     "data": {
      "text/html": [
       "<div>\n",
       "<style scoped>\n",
       "    .dataframe tbody tr th:only-of-type {\n",
       "        vertical-align: middle;\n",
       "    }\n",
       "\n",
       "    .dataframe tbody tr th {\n",
       "        vertical-align: top;\n",
       "    }\n",
       "\n",
       "    .dataframe thead th {\n",
       "        text-align: right;\n",
       "    }\n",
       "</style>\n",
       "<table border=\"1\" class=\"dataframe\">\n",
       "  <thead>\n",
       "    <tr style=\"text-align: right;\">\n",
       "      <th></th>\n",
       "      <th>ProductCode</th>\n",
       "      <th>StoreCode</th>\n",
       "    </tr>\n",
       "  </thead>\n",
       "  <tbody>\n",
       "    <tr>\n",
       "      <th>count</th>\n",
       "      <td>1873618</td>\n",
       "      <td>1873618</td>\n",
       "    </tr>\n",
       "    <tr>\n",
       "      <th>unique</th>\n",
       "      <td>317</td>\n",
       "      <td>340</td>\n",
       "    </tr>\n",
       "    <tr>\n",
       "      <th>top</th>\n",
       "      <td>149</td>\n",
       "      <td>331</td>\n",
       "    </tr>\n",
       "    <tr>\n",
       "      <th>freq</th>\n",
       "      <td>54060</td>\n",
       "      <td>17470</td>\n",
       "    </tr>\n",
       "  </tbody>\n",
       "</table>\n",
       "</div>"
      ],
      "text/plain": [
       "        ProductCode  StoreCode\n",
       "count       1873618    1873618\n",
       "unique          317        340\n",
       "top             149        331\n",
       "freq          54060      17470"
      ]
     },
     "execution_count": 129,
     "metadata": {},
     "output_type": "execute_result"
    }
   ],
   "source": [
    "# Investigate ProductCode:\n",
    "df1a[['ProductCode', 'StoreCode']].astype('object').describe()"
   ]
  },
  {
   "cell_type": "code",
   "execution_count": 130,
   "id": "71befd65-f722-476b-8d04-33faa2c4065d",
   "metadata": {
    "execution": {
     "iopub.execute_input": "2024-09-23T20:25:28.237490Z",
     "iopub.status.busy": "2024-09-23T20:25:28.237345Z",
     "iopub.status.idle": "2024-09-23T20:25:28.271632Z",
     "shell.execute_reply": "2024-09-23T20:25:28.270940Z",
     "shell.execute_reply.started": "2024-09-23T20:25:28.237477Z"
    }
   },
   "outputs": [
    {
     "data": {
      "text/plain": [
       "count   1873618.0000\n",
       "mean          2.2466\n",
       "std           5.0290\n",
       "min         -60.0000\n",
       "25%           0.0000\n",
       "50%           1.0000\n",
       "75%           2.0000\n",
       "max         912.0000\n",
       "Name: SalesQuantity, dtype: float64"
      ]
     },
     "execution_count": 130,
     "metadata": {},
     "output_type": "execute_result"
    }
   ],
   "source": [
    "# Finally investigate SalesQuantity:\n",
    "df1a['SalesQuantity'].describe()"
   ]
  },
  {
   "cell_type": "markdown",
   "id": "f71994dc-baef-4367-9040-fab250710910",
   "metadata": {},
   "source": [
    "- assignment4.1a.csv contains 1873618 rows and 4 columns.\n",
    "- Dataset data range is from 2015-01-01 to 2015-07-31\n",
    "- There are 317 unique product codes. 149 is the most recorded value (54060 records)\n",
    "- There are 340 unique store codes. 331 Product code is the most recorded value (17470 records)\n",
    "- Sales data exhibit wide range. This feature needs furher groupping to be analzed properly."
   ]
  },
  {
   "cell_type": "markdown",
   "id": "fce2e902-1096-478b-a42e-95f584b868fa",
   "metadata": {},
   "source": [
    "## Data=Promotiondates.csv\n",
    "The data contains beginning and the end dates of 6 promotions that took\n",
    "place in 2015.  "
   ]
  },
  {
   "cell_type": "code",
   "execution_count": 131,
   "id": "413cd92d-6b9c-40e3-9c7e-289ad79d28e1",
   "metadata": {
    "execution": {
     "iopub.execute_input": "2024-09-23T20:25:28.272657Z",
     "iopub.status.busy": "2024-09-23T20:25:28.272432Z",
     "iopub.status.idle": "2024-09-23T20:25:28.279458Z",
     "shell.execute_reply": "2024-09-23T20:25:28.278962Z",
     "shell.execute_reply.started": "2024-09-23T20:25:28.272623Z"
    }
   },
   "outputs": [
    {
     "data": {
      "text/html": [
       "<div>\n",
       "<style scoped>\n",
       "    .dataframe tbody tr th:only-of-type {\n",
       "        vertical-align: middle;\n",
       "    }\n",
       "\n",
       "    .dataframe tbody tr th {\n",
       "        vertical-align: top;\n",
       "    }\n",
       "\n",
       "    .dataframe thead th {\n",
       "        text-align: right;\n",
       "    }\n",
       "</style>\n",
       "<table border=\"1\" class=\"dataframe\">\n",
       "  <thead>\n",
       "    <tr style=\"text-align: right;\">\n",
       "      <th></th>\n",
       "      <th>Period</th>\n",
       "      <th>StartDate</th>\n",
       "      <th>EndDate</th>\n",
       "    </tr>\n",
       "  </thead>\n",
       "  <tbody>\n",
       "    <tr>\n",
       "      <th>0</th>\n",
       "      <td>Promo1</td>\n",
       "      <td>2/10/2015</td>\n",
       "      <td>2/17/2015</td>\n",
       "    </tr>\n",
       "    <tr>\n",
       "      <th>1</th>\n",
       "      <td>Promo2</td>\n",
       "      <td>3/15/2015</td>\n",
       "      <td>3/22/2015</td>\n",
       "    </tr>\n",
       "    <tr>\n",
       "      <th>2</th>\n",
       "      <td>Promo3</td>\n",
       "      <td>5/24/2015</td>\n",
       "      <td>6/1/2015</td>\n",
       "    </tr>\n",
       "    <tr>\n",
       "      <th>3</th>\n",
       "      <td>Promo4</td>\n",
       "      <td>6/21/2015</td>\n",
       "      <td>6/28/2015</td>\n",
       "    </tr>\n",
       "    <tr>\n",
       "      <th>4</th>\n",
       "      <td>Promo5</td>\n",
       "      <td>1/9/2015</td>\n",
       "      <td>6/9/2015</td>\n",
       "    </tr>\n",
       "    <tr>\n",
       "      <th>5</th>\n",
       "      <td>Promo6</td>\n",
       "      <td>20/11/2015</td>\n",
       "      <td>27/11/2015</td>\n",
       "    </tr>\n",
       "  </tbody>\n",
       "</table>\n",
       "</div>"
      ],
      "text/plain": [
       "   Period   StartDate     EndDate\n",
       "0  Promo1   2/10/2015   2/17/2015\n",
       "1  Promo2   3/15/2015   3/22/2015\n",
       "2  Promo3   5/24/2015    6/1/2015\n",
       "3  Promo4   6/21/2015   6/28/2015\n",
       "4  Promo5    1/9/2015    6/9/2015\n",
       "5  Promo6  20/11/2015  27/11/2015"
      ]
     },
     "execution_count": 131,
     "metadata": {},
     "output_type": "execute_result"
    }
   ],
   "source": [
    "# Read promotion data:\n",
    "df_promotion = pd.read_csv('./PromotionDates.csv')\n",
    "df_promotion"
   ]
  },
  {
   "cell_type": "code",
   "execution_count": 132,
   "id": "5295df00-5352-4836-8155-d9155e93b2f1",
   "metadata": {
    "execution": {
     "iopub.execute_input": "2024-09-23T20:25:28.280384Z",
     "iopub.status.busy": "2024-09-23T20:25:28.280183Z",
     "iopub.status.idle": "2024-09-23T20:25:28.286357Z",
     "shell.execute_reply": "2024-09-23T20:25:28.285841Z",
     "shell.execute_reply.started": "2024-09-23T20:25:28.280363Z"
    }
   },
   "outputs": [
    {
     "data": {
      "text/html": [
       "<div>\n",
       "<style scoped>\n",
       "    .dataframe tbody tr th:only-of-type {\n",
       "        vertical-align: middle;\n",
       "    }\n",
       "\n",
       "    .dataframe tbody tr th {\n",
       "        vertical-align: top;\n",
       "    }\n",
       "\n",
       "    .dataframe thead th {\n",
       "        text-align: right;\n",
       "    }\n",
       "</style>\n",
       "<table border=\"1\" class=\"dataframe\">\n",
       "  <thead>\n",
       "    <tr style=\"text-align: right;\">\n",
       "      <th></th>\n",
       "      <th>Period</th>\n",
       "      <th>StartDate</th>\n",
       "      <th>EndDate</th>\n",
       "    </tr>\n",
       "  </thead>\n",
       "  <tbody>\n",
       "    <tr>\n",
       "      <th>0</th>\n",
       "      <td>Promo1</td>\n",
       "      <td>2/10/2015</td>\n",
       "      <td>2/17/2015</td>\n",
       "    </tr>\n",
       "    <tr>\n",
       "      <th>1</th>\n",
       "      <td>Promo2</td>\n",
       "      <td>3/15/2015</td>\n",
       "      <td>3/22/2015</td>\n",
       "    </tr>\n",
       "    <tr>\n",
       "      <th>2</th>\n",
       "      <td>Promo3</td>\n",
       "      <td>5/24/2015</td>\n",
       "      <td>6/1/2015</td>\n",
       "    </tr>\n",
       "    <tr>\n",
       "      <th>3</th>\n",
       "      <td>Promo4</td>\n",
       "      <td>6/21/2015</td>\n",
       "      <td>6/28/2015</td>\n",
       "    </tr>\n",
       "    <tr>\n",
       "      <th>4</th>\n",
       "      <td>Promo5</td>\n",
       "      <td>9/1/2015</td>\n",
       "      <td>9/6/2015</td>\n",
       "    </tr>\n",
       "    <tr>\n",
       "      <th>5</th>\n",
       "      <td>Promo6</td>\n",
       "      <td>11/20/2015</td>\n",
       "      <td>11/27/2015</td>\n",
       "    </tr>\n",
       "  </tbody>\n",
       "</table>\n",
       "</div>"
      ],
      "text/plain": [
       "   Period   StartDate     EndDate\n",
       "0  Promo1   2/10/2015   2/17/2015\n",
       "1  Promo2   3/15/2015   3/22/2015\n",
       "2  Promo3   5/24/2015    6/1/2015\n",
       "3  Promo4   6/21/2015   6/28/2015\n",
       "4  Promo5    9/1/2015    9/6/2015\n",
       "5  Promo6  11/20/2015  11/27/2015"
      ]
     },
     "execution_count": 132,
     "metadata": {},
     "output_type": "execute_result"
    }
   ],
   "source": [
    "# Promotion data's last 2 rows contain day first datetime format.\n",
    "# We fix this manually since there are only 4 wrong entries:\n",
    "df_promotion.at[4, 'StartDate'] = '9/1/2015'\n",
    "df_promotion.at[4, 'EndDate'] = '9/6/2015'\n",
    "df_promotion.at[5, 'StartDate'] = '11/20/2015'\n",
    "df_promotion.at[5, 'EndDate'] = '11/27/2015'\n",
    "df_promotion"
   ]
  },
  {
   "cell_type": "markdown",
   "id": "d58a2e0a-e40d-40dc-b63b-c8d405b95e11",
   "metadata": {},
   "source": [
    "A. Your goal is to model the effect of promotion on products and stores. At this stage\n",
    "only use the data in the file Assignment4.1a.csv and base your model using the\n",
    "first 4 promotions."
   ]
  },
  {
   "cell_type": "markdown",
   "id": "07c38ddd-ef02-4a4c-9134-2db1aa682fc7",
   "metadata": {},
   "source": [
    "## PREPROCESSING"
   ]
  },
  {
   "cell_type": "code",
   "execution_count": 133,
   "id": "7f23b8f3-7f51-4236-8d4d-ea0a76025787",
   "metadata": {
    "execution": {
     "iopub.execute_input": "2024-09-23T20:25:28.288057Z",
     "iopub.status.busy": "2024-09-23T20:25:28.287895Z",
     "iopub.status.idle": "2024-09-23T20:25:28.316323Z",
     "shell.execute_reply": "2024-09-23T20:25:28.315722Z",
     "shell.execute_reply.started": "2024-09-23T20:25:28.288042Z"
    }
   },
   "outputs": [
    {
     "data": {
      "text/plain": [
       "dtype('<M8[ns]')"
      ]
     },
     "execution_count": 133,
     "metadata": {},
     "output_type": "execute_result"
    }
   ],
   "source": [
    "# Convert df1a column to datetime:\n",
    "df1a['Date'] = pd.to_datetime(df1a['Date'], format='%Y-%m-%d')\n",
    "df1a['Date'].dtype"
   ]
  },
  {
   "cell_type": "code",
   "execution_count": 134,
   "id": "bf8bfce6-7d3f-4687-86eb-7205ab5652b0",
   "metadata": {
    "execution": {
     "iopub.execute_input": "2024-09-23T20:25:28.317219Z",
     "iopub.status.busy": "2024-09-23T20:25:28.317048Z",
     "iopub.status.idle": "2024-09-23T20:25:28.323674Z",
     "shell.execute_reply": "2024-09-23T20:25:28.323246Z",
     "shell.execute_reply.started": "2024-09-23T20:25:28.317200Z"
    }
   },
   "outputs": [
    {
     "data": {
      "text/plain": [
       "StartDate    datetime64[ns]\n",
       "EndDate      datetime64[ns]\n",
       "dtype: object"
      ]
     },
     "execution_count": 134,
     "metadata": {},
     "output_type": "execute_result"
    }
   ],
   "source": [
    "# Convert promotion start and end dates to datetime column:\n",
    "df_promotion['StartDate'] = pd.to_datetime(df_promotion['StartDate'],\n",
    "                                          format='%m/%d/%Y')\n",
    "\n",
    "df_promotion['EndDate'] = pd.to_datetime(df_promotion['EndDate'],\n",
    "                                         format='%m/%d/%Y')\n",
    "\n",
    "df_promotion[['StartDate', 'EndDate']].dtypes"
   ]
  },
  {
   "cell_type": "code",
   "execution_count": 135,
   "id": "e8c414ab-401c-48ca-952c-f41c9cbbdd75",
   "metadata": {
    "execution": {
     "iopub.execute_input": "2024-09-23T20:25:28.324406Z",
     "iopub.status.busy": "2024-09-23T20:25:28.324260Z",
     "iopub.status.idle": "2024-09-23T20:25:28.430661Z",
     "shell.execute_reply": "2024-09-23T20:25:28.430237Z",
     "shell.execute_reply.started": "2024-09-23T20:25:28.324391Z"
    }
   },
   "outputs": [
    {
     "data": {
      "text/html": [
       "<div>\n",
       "<style scoped>\n",
       "    .dataframe tbody tr th:only-of-type {\n",
       "        vertical-align: middle;\n",
       "    }\n",
       "\n",
       "    .dataframe tbody tr th {\n",
       "        vertical-align: top;\n",
       "    }\n",
       "\n",
       "    .dataframe thead th {\n",
       "        text-align: right;\n",
       "    }\n",
       "</style>\n",
       "<table border=\"1\" class=\"dataframe\">\n",
       "  <thead>\n",
       "    <tr style=\"text-align: right;\">\n",
       "      <th></th>\n",
       "      <th>Date</th>\n",
       "      <th>StoreCode</th>\n",
       "      <th>ProductCode</th>\n",
       "      <th>SalesQuantity</th>\n",
       "      <th>WeekNumber</th>\n",
       "      <th>WeekDay</th>\n",
       "    </tr>\n",
       "  </thead>\n",
       "  <tbody>\n",
       "    <tr>\n",
       "      <th>0</th>\n",
       "      <td>2015-01-01</td>\n",
       "      <td>8</td>\n",
       "      <td>9</td>\n",
       "      <td>-1</td>\n",
       "      <td>1</td>\n",
       "      <td>4</td>\n",
       "    </tr>\n",
       "    <tr>\n",
       "      <th>1</th>\n",
       "      <td>2015-01-01</td>\n",
       "      <td>131</td>\n",
       "      <td>9</td>\n",
       "      <td>1</td>\n",
       "      <td>1</td>\n",
       "      <td>4</td>\n",
       "    </tr>\n",
       "    <tr>\n",
       "      <th>2</th>\n",
       "      <td>2015-01-01</td>\n",
       "      <td>144</td>\n",
       "      <td>9</td>\n",
       "      <td>2</td>\n",
       "      <td>1</td>\n",
       "      <td>4</td>\n",
       "    </tr>\n",
       "    <tr>\n",
       "      <th>3</th>\n",
       "      <td>2015-01-01</td>\n",
       "      <td>203</td>\n",
       "      <td>9</td>\n",
       "      <td>2</td>\n",
       "      <td>1</td>\n",
       "      <td>4</td>\n",
       "    </tr>\n",
       "    <tr>\n",
       "      <th>4</th>\n",
       "      <td>2015-01-01</td>\n",
       "      <td>256</td>\n",
       "      <td>9</td>\n",
       "      <td>0</td>\n",
       "      <td>1</td>\n",
       "      <td>4</td>\n",
       "    </tr>\n",
       "  </tbody>\n",
       "</table>\n",
       "</div>"
      ],
      "text/plain": [
       "        Date  StoreCode  ProductCode  SalesQuantity  WeekNumber  WeekDay\n",
       "0 2015-01-01          8            9             -1           1        4\n",
       "1 2015-01-01        131            9              1           1        4\n",
       "2 2015-01-01        144            9              2           1        4\n",
       "3 2015-01-01        203            9              2           1        4\n",
       "4 2015-01-01        256            9              0           1        4"
      ]
     },
     "execution_count": 135,
     "metadata": {},
     "output_type": "execute_result"
    }
   ],
   "source": [
    "# Obtain the week date from days:\n",
    "df1a['WeekNumber'] = df1a['Date'].dt.isocalendar().week.astype('uint8')\n",
    "df1a['WeekDay'] = df1a['Date'].dt.isocalendar().day.astype('uint8')\n",
    "df1a.head()"
   ]
  },
  {
   "cell_type": "code",
   "execution_count": 136,
   "id": "d9d6c80d-ca7c-49d7-a20a-9c5d5bbd83d5",
   "metadata": {
    "execution": {
     "iopub.execute_input": "2024-09-23T20:25:28.431349Z",
     "iopub.status.busy": "2024-09-23T20:25:28.431198Z",
     "iopub.status.idle": "2024-09-23T20:25:28.439310Z",
     "shell.execute_reply": "2024-09-23T20:25:28.438843Z",
     "shell.execute_reply.started": "2024-09-23T20:25:28.431334Z"
    }
   },
   "outputs": [
    {
     "data": {
      "text/html": [
       "<div>\n",
       "<style scoped>\n",
       "    .dataframe tbody tr th:only-of-type {\n",
       "        vertical-align: middle;\n",
       "    }\n",
       "\n",
       "    .dataframe tbody tr th {\n",
       "        vertical-align: top;\n",
       "    }\n",
       "\n",
       "    .dataframe thead th {\n",
       "        text-align: right;\n",
       "    }\n",
       "</style>\n",
       "<table border=\"1\" class=\"dataframe\">\n",
       "  <thead>\n",
       "    <tr style=\"text-align: right;\">\n",
       "      <th></th>\n",
       "      <th>Period</th>\n",
       "      <th>StartDate</th>\n",
       "      <th>EndDate</th>\n",
       "      <th>StartWeekNumber</th>\n",
       "      <th>EndWeekNumber</th>\n",
       "    </tr>\n",
       "  </thead>\n",
       "  <tbody>\n",
       "    <tr>\n",
       "      <th>0</th>\n",
       "      <td>Promo1</td>\n",
       "      <td>2015-02-10</td>\n",
       "      <td>2015-02-17</td>\n",
       "      <td>7</td>\n",
       "      <td>8</td>\n",
       "    </tr>\n",
       "    <tr>\n",
       "      <th>1</th>\n",
       "      <td>Promo2</td>\n",
       "      <td>2015-03-15</td>\n",
       "      <td>2015-03-22</td>\n",
       "      <td>11</td>\n",
       "      <td>12</td>\n",
       "    </tr>\n",
       "    <tr>\n",
       "      <th>2</th>\n",
       "      <td>Promo3</td>\n",
       "      <td>2015-05-24</td>\n",
       "      <td>2015-06-01</td>\n",
       "      <td>21</td>\n",
       "      <td>23</td>\n",
       "    </tr>\n",
       "    <tr>\n",
       "      <th>3</th>\n",
       "      <td>Promo4</td>\n",
       "      <td>2015-06-21</td>\n",
       "      <td>2015-06-28</td>\n",
       "      <td>25</td>\n",
       "      <td>26</td>\n",
       "    </tr>\n",
       "    <tr>\n",
       "      <th>4</th>\n",
       "      <td>Promo5</td>\n",
       "      <td>2015-09-01</td>\n",
       "      <td>2015-09-06</td>\n",
       "      <td>36</td>\n",
       "      <td>36</td>\n",
       "    </tr>\n",
       "    <tr>\n",
       "      <th>5</th>\n",
       "      <td>Promo6</td>\n",
       "      <td>2015-11-20</td>\n",
       "      <td>2015-11-27</td>\n",
       "      <td>47</td>\n",
       "      <td>48</td>\n",
       "    </tr>\n",
       "  </tbody>\n",
       "</table>\n",
       "</div>"
      ],
      "text/plain": [
       "   Period  StartDate    EndDate  StartWeekNumber  EndWeekNumber\n",
       "0  Promo1 2015-02-10 2015-02-17                7              8\n",
       "1  Promo2 2015-03-15 2015-03-22               11             12\n",
       "2  Promo3 2015-05-24 2015-06-01               21             23\n",
       "3  Promo4 2015-06-21 2015-06-28               25             26\n",
       "4  Promo5 2015-09-01 2015-09-06               36             36\n",
       "5  Promo6 2015-11-20 2015-11-27               47             48"
      ]
     },
     "execution_count": 136,
     "metadata": {},
     "output_type": "execute_result"
    }
   ],
   "source": [
    "# Obtain promotion data week numbers:\n",
    "df_promotion['StartWeekNumber'] = (df_promotion['StartDate']\n",
    "                                   .dt.isocalendar()\n",
    "                                   .week.astype('uint8'))\n",
    "\n",
    "df_promotion['EndWeekNumber'] = (df_promotion['EndDate']\n",
    "                                 .dt.isocalendar()\n",
    "                                 .week.astype('uint8'))\n",
    "\n",
    "df_promotion"
   ]
  },
  {
   "cell_type": "code",
   "execution_count": 137,
   "id": "6e25db8c-be80-4c93-94fe-37e693f46135",
   "metadata": {
    "execution": {
     "iopub.execute_input": "2024-09-23T20:25:28.440211Z",
     "iopub.status.busy": "2024-09-23T20:25:28.440022Z",
     "iopub.status.idle": "2024-09-23T20:25:28.445639Z",
     "shell.execute_reply": "2024-09-23T20:25:28.445293Z",
     "shell.execute_reply.started": "2024-09-23T20:25:28.440194Z"
    }
   },
   "outputs": [
    {
     "data": {
      "text/plain": [
       "[7, 11, 21, 25, 36, 47, 8, 12, 23, 26, 36, 48]"
      ]
     },
     "execution_count": 137,
     "metadata": {},
     "output_type": "execute_result"
    }
   ],
   "source": [
    "# Obtain no promo weeks:\n",
    "promo_weeks = []\n",
    "promo_weeks.extend(df_promotion['StartWeekNumber'].to_list())\n",
    "promo_weeks.extend(df_promotion['EndWeekNumber'].to_list())\n",
    "promo_weeks"
   ]
  },
  {
   "cell_type": "code",
   "execution_count": 138,
   "id": "314519de-c8d6-4375-803b-ab8af30ec4cf",
   "metadata": {
    "execution": {
     "iopub.execute_input": "2024-09-23T20:25:28.446421Z",
     "iopub.status.busy": "2024-09-23T20:25:28.446239Z",
     "iopub.status.idle": "2024-09-23T20:25:28.631435Z",
     "shell.execute_reply": "2024-09-23T20:25:28.630995Z",
     "shell.execute_reply.started": "2024-09-23T20:25:28.446405Z"
    }
   },
   "outputs": [
    {
     "data": {
      "text/plain": [
       "IsPromo\n",
       "False    1356327\n",
       "True      517291\n",
       "Name: count, dtype: int64"
      ]
     },
     "execution_count": 138,
     "metadata": {},
     "output_type": "execute_result"
    }
   ],
   "source": [
    "# Generate is_promo column:\n",
    "temp = lambda x: True if x in promo_weeks else False\n",
    "df1a['IsPromo'] = np.vectorize(temp)(df1a['WeekNumber'])\n",
    "del temp\n",
    "df1a['IsPromo'].value_counts()"
   ]
  },
  {
   "cell_type": "code",
   "execution_count": 139,
   "id": "696a1d44-b67a-474c-9dff-881eee382417",
   "metadata": {
    "execution": {
     "iopub.execute_input": "2024-09-23T20:27:40.465740Z",
     "iopub.status.busy": "2024-09-23T20:27:40.465394Z",
     "iopub.status.idle": "2024-09-23T20:27:59.654482Z",
     "shell.execute_reply": "2024-09-23T20:27:59.654047Z",
     "shell.execute_reply.started": "2024-09-23T20:27:40.465720Z"
    }
   },
   "outputs": [
    {
     "data": {
      "text/html": [
       "<div>\n",
       "<style scoped>\n",
       "    .dataframe tbody tr th:only-of-type {\n",
       "        vertical-align: middle;\n",
       "    }\n",
       "\n",
       "    .dataframe tbody tr th {\n",
       "        vertical-align: top;\n",
       "    }\n",
       "\n",
       "    .dataframe thead th {\n",
       "        text-align: right;\n",
       "    }\n",
       "</style>\n",
       "<table border=\"1\" class=\"dataframe\">\n",
       "  <thead>\n",
       "    <tr style=\"text-align: right;\">\n",
       "      <th></th>\n",
       "      <th>Date</th>\n",
       "      <th>StoreCode</th>\n",
       "      <th>ProductCode</th>\n",
       "      <th>SalesQuantity</th>\n",
       "      <th>WeekNumber</th>\n",
       "      <th>WeekDay</th>\n",
       "      <th>IsPromo</th>\n",
       "      <th>IsPromo1</th>\n",
       "      <th>IsPromo2</th>\n",
       "      <th>IsPromo3</th>\n",
       "      <th>IsPromo4</th>\n",
       "      <th>IsPromo5</th>\n",
       "      <th>IsPromo6</th>\n",
       "    </tr>\n",
       "  </thead>\n",
       "  <tbody>\n",
       "    <tr>\n",
       "      <th>0</th>\n",
       "      <td>2015-01-01</td>\n",
       "      <td>8</td>\n",
       "      <td>9</td>\n",
       "      <td>-1</td>\n",
       "      <td>1</td>\n",
       "      <td>4</td>\n",
       "      <td>False</td>\n",
       "      <td>False</td>\n",
       "      <td>False</td>\n",
       "      <td>False</td>\n",
       "      <td>False</td>\n",
       "      <td>False</td>\n",
       "      <td>False</td>\n",
       "    </tr>\n",
       "    <tr>\n",
       "      <th>1</th>\n",
       "      <td>2015-01-01</td>\n",
       "      <td>131</td>\n",
       "      <td>9</td>\n",
       "      <td>1</td>\n",
       "      <td>1</td>\n",
       "      <td>4</td>\n",
       "      <td>False</td>\n",
       "      <td>False</td>\n",
       "      <td>False</td>\n",
       "      <td>False</td>\n",
       "      <td>False</td>\n",
       "      <td>False</td>\n",
       "      <td>False</td>\n",
       "    </tr>\n",
       "    <tr>\n",
       "      <th>2</th>\n",
       "      <td>2015-01-01</td>\n",
       "      <td>144</td>\n",
       "      <td>9</td>\n",
       "      <td>2</td>\n",
       "      <td>1</td>\n",
       "      <td>4</td>\n",
       "      <td>False</td>\n",
       "      <td>False</td>\n",
       "      <td>False</td>\n",
       "      <td>False</td>\n",
       "      <td>False</td>\n",
       "      <td>False</td>\n",
       "      <td>False</td>\n",
       "    </tr>\n",
       "    <tr>\n",
       "      <th>3</th>\n",
       "      <td>2015-01-01</td>\n",
       "      <td>203</td>\n",
       "      <td>9</td>\n",
       "      <td>2</td>\n",
       "      <td>1</td>\n",
       "      <td>4</td>\n",
       "      <td>False</td>\n",
       "      <td>False</td>\n",
       "      <td>False</td>\n",
       "      <td>False</td>\n",
       "      <td>False</td>\n",
       "      <td>False</td>\n",
       "      <td>False</td>\n",
       "    </tr>\n",
       "    <tr>\n",
       "      <th>4</th>\n",
       "      <td>2015-01-01</td>\n",
       "      <td>256</td>\n",
       "      <td>9</td>\n",
       "      <td>0</td>\n",
       "      <td>1</td>\n",
       "      <td>4</td>\n",
       "      <td>False</td>\n",
       "      <td>False</td>\n",
       "      <td>False</td>\n",
       "      <td>False</td>\n",
       "      <td>False</td>\n",
       "      <td>False</td>\n",
       "      <td>False</td>\n",
       "    </tr>\n",
       "  </tbody>\n",
       "</table>\n",
       "</div>"
      ],
      "text/plain": [
       "        Date  StoreCode  ProductCode  SalesQuantity  WeekNumber  WeekDay  \\\n",
       "0 2015-01-01          8            9             -1           1        4   \n",
       "1 2015-01-01        131            9              1           1        4   \n",
       "2 2015-01-01        144            9              2           1        4   \n",
       "3 2015-01-01        203            9              2           1        4   \n",
       "4 2015-01-01        256            9              0           1        4   \n",
       "\n",
       "   IsPromo  IsPromo1  IsPromo2  IsPromo3  IsPromo4  IsPromo5  IsPromo6  \n",
       "0    False     False     False     False     False     False     False  \n",
       "1    False     False     False     False     False     False     False  \n",
       "2    False     False     False     False     False     False     False  \n",
       "3    False     False     False     False     False     False     False  \n",
       "4    False     False     False     False     False     False     False  "
      ]
     },
     "execution_count": 139,
     "metadata": {},
     "output_type": "execute_result"
    }
   ],
   "source": [
    "# Generate distinct promo columns for comparison:\n",
    "for idx, promo in zip(df_promotion.index, df_promotion['Period'].values):\n",
    "    start_week = df_promotion.iloc[idx]['StartWeekNumber']\n",
    "    end_week = df_promotion.iloc[idx]['EndWeekNumber']\n",
    "    \n",
    "    # Create a boolean mask using vectorized operations\n",
    "    df1a[f'Is{promo}'] = df1a['WeekNumber'].isin([start_week, end_week])\n",
    "\n",
    "df1a.head()"
   ]
  },
  {
   "cell_type": "code",
   "execution_count": 140,
   "id": "a4dba14c-45b4-4889-b360-e4581cb624a6",
   "metadata": {
    "execution": {
     "iopub.execute_input": "2024-09-23T20:29:12.980336Z",
     "iopub.status.busy": "2024-09-23T20:29:12.980026Z",
     "iopub.status.idle": "2024-09-23T20:29:13.004318Z",
     "shell.execute_reply": "2024-09-23T20:29:13.003831Z",
     "shell.execute_reply.started": "2024-09-23T20:29:12.980315Z"
    }
   },
   "outputs": [
    {
     "data": {
      "text/plain": [
       "IsPromo     517291\n",
       "IsPromo1    136600\n",
       "IsPromo2    142613\n",
       "IsPromo3    123720\n",
       "IsPromo4    114358\n",
       "IsPromo5         0\n",
       "IsPromo6         0\n",
       "dtype: int64"
      ]
     },
     "execution_count": 140,
     "metadata": {},
     "output_type": "execute_result"
    }
   ],
   "source": [
    "df1a.select_dtypes(include='bool').sum()"
   ]
  },
  {
   "cell_type": "markdown",
   "id": "418d0fb5-202e-4b5b-bdce-62889ca7996c",
   "metadata": {},
   "source": [
    "Divide product and stores into 3 clusters each. Product with higher average weekly sale per store during non-promotion periods will be called “Fast items” and items with lower weekly average sale per store will be labeled as “Slow items”, items in between will be called “Medium items”. Grouping parameters selection is left to you. Apply similar approach to Stores as well."
   ]
  },
  {
   "cell_type": "code",
   "execution_count": 141,
   "id": "d52f542b-e906-40a8-b955-b4cad8697e83",
   "metadata": {
    "execution": {
     "iopub.execute_input": "2024-09-23T20:58:54.154252Z",
     "iopub.status.busy": "2024-09-23T20:58:54.153949Z",
     "iopub.status.idle": "2024-09-23T20:58:54.158591Z",
     "shell.execute_reply": "2024-09-23T20:58:54.158146Z",
     "shell.execute_reply.started": "2024-09-23T20:58:54.154233Z"
    }
   },
   "outputs": [
    {
     "data": {
      "text/plain": [
       "Index(['Date', 'StoreCode', 'ProductCode', 'SalesQuantity', 'WeekNumber',\n",
       "       'WeekDay', 'IsPromo', 'IsPromo1', 'IsPromo2', 'IsPromo3', 'IsPromo4',\n",
       "       'IsPromo5', 'IsPromo6'],\n",
       "      dtype='object')"
      ]
     },
     "execution_count": 141,
     "metadata": {},
     "output_type": "execute_result"
    }
   ],
   "source": [
    "df1a.columns"
   ]
  },
  {
   "cell_type": "code",
   "execution_count": 142,
   "id": "37cfe545-6760-4d9d-93f8-02c90c3b0cb1",
   "metadata": {
    "execution": {
     "iopub.execute_input": "2024-09-23T20:58:44.633821Z",
     "iopub.status.busy": "2024-09-23T20:58:44.633498Z",
     "iopub.status.idle": "2024-09-23T20:58:44.736628Z",
     "shell.execute_reply": "2024-09-23T20:58:44.736015Z",
     "shell.execute_reply.started": "2024-09-23T20:58:44.633801Z"
    }
   },
   "outputs": [
    {
     "data": {
      "text/plain": [
       "0"
      ]
     },
     "execution_count": 142,
     "metadata": {},
     "output_type": "execute_result"
    }
   ],
   "source": [
    "# Get the no promotion data:\n",
    "df1a_no_promotion = df1a.query('IsPromo == False')\n",
    "df1a_no_promotion['IsPromo'].sum()"
   ]
  },
  {
   "cell_type": "code",
   "execution_count": 143,
   "id": "36ae86e7-876d-41d6-8c12-8f729fd0f415",
   "metadata": {
    "execution": {
     "iopub.execute_input": "2024-09-23T20:59:14.335571Z",
     "iopub.status.busy": "2024-09-23T20:59:14.335265Z",
     "iopub.status.idle": "2024-09-23T20:59:14.348382Z",
     "shell.execute_reply": "2024-09-23T20:59:14.347872Z",
     "shell.execute_reply.started": "2024-09-23T20:59:14.335550Z"
    }
   },
   "outputs": [
    {
     "data": {
      "text/plain": [
       "True"
      ]
     },
     "execution_count": 143,
     "metadata": {},
     "output_type": "execute_result"
    }
   ],
   "source": [
    "# Check duplication of storecode:\n",
    "df1a_no_promotion[['StoreCode']].duplicated().any()"
   ]
  },
  {
   "cell_type": "code",
   "execution_count": 144,
   "id": "2eda91f8-92f4-4d25-b30d-815a2fde9693",
   "metadata": {
    "execution": {
     "iopub.execute_input": "2024-09-23T20:59:14.516231Z",
     "iopub.status.busy": "2024-09-23T20:59:14.515790Z",
     "iopub.status.idle": "2024-09-23T20:59:14.531569Z",
     "shell.execute_reply": "2024-09-23T20:59:14.531054Z",
     "shell.execute_reply.started": "2024-09-23T20:59:14.516209Z"
    }
   },
   "outputs": [
    {
     "data": {
      "text/plain": [
       "True"
      ]
     },
     "execution_count": 144,
     "metadata": {},
     "output_type": "execute_result"
    }
   ],
   "source": [
    "# Check duplication of productcode:\n",
    "df1a_no_promotion[['ProductCode']].duplicated().any()"
   ]
  },
  {
   "cell_type": "markdown",
   "id": "10ebee6c-e21d-426a-9db1-071c84ea6c17",
   "metadata": {},
   "source": [
    "Both store code and product code contains duplicate values."
   ]
  },
  {
   "cell_type": "markdown",
   "id": "07584909-19c8-497a-a467-7bfad8f3f3e8",
   "metadata": {},
   "source": [
    "We will cluster slow, average, and fast products as follows:  \n",
    "1 - We will calculate the weekly mean product sales for eachg store using pivot table function.  \n",
    "2 - Then, we will define a function that will go over each store and week pairs. We will store mean sales for all products for each week and store pair (mean of mean values). After this task, we compare mean values of produt codes with the week mean for given store.  \n",
    "3 - Products that are above the mean of mean weekly sales per store will be considered fast items.  \n",
    "4 - Products that are equal to or below mean weekly sales of 1 will be slow items.  \n",
    "5 - Produtcs in between will be average items.  \n",
    "6 - In case of product code not being present in a given week/store combination. Then, it is automatically set to slow item for that week and store."
   ]
  },
  {
   "cell_type": "code",
   "execution_count": 145,
   "id": "474fbc4c-673e-435e-8e27-a52727f19c9c",
   "metadata": {
    "execution": {
     "iopub.execute_input": "2024-09-23T22:01:43.695753Z",
     "iopub.status.busy": "2024-09-23T22:01:43.695326Z",
     "iopub.status.idle": "2024-09-23T22:01:44.138974Z",
     "shell.execute_reply": "2024-09-23T22:01:44.138357Z",
     "shell.execute_reply.started": "2024-09-23T22:01:43.695734Z"
    }
   },
   "outputs": [
    {
     "data": {
      "text/html": [
       "<div>\n",
       "<style scoped>\n",
       "    .dataframe tbody tr th:only-of-type {\n",
       "        vertical-align: middle;\n",
       "    }\n",
       "\n",
       "    .dataframe tbody tr th {\n",
       "        vertical-align: top;\n",
       "    }\n",
       "\n",
       "    .dataframe thead th {\n",
       "        text-align: right;\n",
       "    }\n",
       "</style>\n",
       "<table border=\"1\" class=\"dataframe\">\n",
       "  <thead>\n",
       "    <tr style=\"text-align: right;\">\n",
       "      <th></th>\n",
       "      <th>WeekNumber</th>\n",
       "      <th>1</th>\n",
       "      <th>2</th>\n",
       "      <th>3</th>\n",
       "      <th>4</th>\n",
       "      <th>5</th>\n",
       "      <th>6</th>\n",
       "      <th>9</th>\n",
       "      <th>10</th>\n",
       "      <th>13</th>\n",
       "      <th>14</th>\n",
       "      <th>...</th>\n",
       "      <th>18</th>\n",
       "      <th>19</th>\n",
       "      <th>20</th>\n",
       "      <th>22</th>\n",
       "      <th>24</th>\n",
       "      <th>27</th>\n",
       "      <th>28</th>\n",
       "      <th>29</th>\n",
       "      <th>30</th>\n",
       "      <th>31</th>\n",
       "    </tr>\n",
       "    <tr>\n",
       "      <th>StoreCode</th>\n",
       "      <th>ProductCode</th>\n",
       "      <th></th>\n",
       "      <th></th>\n",
       "      <th></th>\n",
       "      <th></th>\n",
       "      <th></th>\n",
       "      <th></th>\n",
       "      <th></th>\n",
       "      <th></th>\n",
       "      <th></th>\n",
       "      <th></th>\n",
       "      <th></th>\n",
       "      <th></th>\n",
       "      <th></th>\n",
       "      <th></th>\n",
       "      <th></th>\n",
       "      <th></th>\n",
       "      <th></th>\n",
       "      <th></th>\n",
       "      <th></th>\n",
       "      <th></th>\n",
       "      <th></th>\n",
       "    </tr>\n",
       "  </thead>\n",
       "  <tbody>\n",
       "    <tr>\n",
       "      <th rowspan=\"5\" valign=\"top\">1</th>\n",
       "      <th>1</th>\n",
       "      <td>0.0000</td>\n",
       "      <td>4.0000</td>\n",
       "      <td>0.0000</td>\n",
       "      <td>1.0000</td>\n",
       "      <td>0.0000</td>\n",
       "      <td>0.0000</td>\n",
       "      <td>0.0000</td>\n",
       "      <td>0.0000</td>\n",
       "      <td>0.0000</td>\n",
       "      <td>0.0000</td>\n",
       "      <td>...</td>\n",
       "      <td>1.0000</td>\n",
       "      <td>0.0000</td>\n",
       "      <td>0.0000</td>\n",
       "      <td>0.0000</td>\n",
       "      <td>0.0000</td>\n",
       "      <td>0.0000</td>\n",
       "      <td>0.0000</td>\n",
       "      <td>0.0000</td>\n",
       "      <td>12.0000</td>\n",
       "      <td>0.0000</td>\n",
       "    </tr>\n",
       "    <tr>\n",
       "      <th>2</th>\n",
       "      <td>0.0000</td>\n",
       "      <td>0.0000</td>\n",
       "      <td>0.0000</td>\n",
       "      <td>0.0000</td>\n",
       "      <td>0.0000</td>\n",
       "      <td>1.0000</td>\n",
       "      <td>2.0000</td>\n",
       "      <td>0.0000</td>\n",
       "      <td>0.0000</td>\n",
       "      <td>2.0000</td>\n",
       "      <td>...</td>\n",
       "      <td>1.0000</td>\n",
       "      <td>1.0000</td>\n",
       "      <td>0.0000</td>\n",
       "      <td>0.0000</td>\n",
       "      <td>0.0000</td>\n",
       "      <td>0.0000</td>\n",
       "      <td>0.0000</td>\n",
       "      <td>0.0000</td>\n",
       "      <td>0.0000</td>\n",
       "      <td>0.0000</td>\n",
       "    </tr>\n",
       "    <tr>\n",
       "      <th>3</th>\n",
       "      <td>0.0000</td>\n",
       "      <td>0.0000</td>\n",
       "      <td>0.0000</td>\n",
       "      <td>1.0000</td>\n",
       "      <td>1.0000</td>\n",
       "      <td>1.0000</td>\n",
       "      <td>0.0000</td>\n",
       "      <td>0.5000</td>\n",
       "      <td>2.0000</td>\n",
       "      <td>0.0000</td>\n",
       "      <td>...</td>\n",
       "      <td>1.0000</td>\n",
       "      <td>1.0000</td>\n",
       "      <td>0.0000</td>\n",
       "      <td>0.0000</td>\n",
       "      <td>0.0000</td>\n",
       "      <td>0.0000</td>\n",
       "      <td>1.0000</td>\n",
       "      <td>0.0000</td>\n",
       "      <td>0.0000</td>\n",
       "      <td>0.0000</td>\n",
       "    </tr>\n",
       "    <tr>\n",
       "      <th>4</th>\n",
       "      <td>0.0000</td>\n",
       "      <td>0.0000</td>\n",
       "      <td>1.0000</td>\n",
       "      <td>1.0000</td>\n",
       "      <td>2.0000</td>\n",
       "      <td>1.0000</td>\n",
       "      <td>1.0000</td>\n",
       "      <td>0.0000</td>\n",
       "      <td>0.0000</td>\n",
       "      <td>0.0000</td>\n",
       "      <td>...</td>\n",
       "      <td>1.0000</td>\n",
       "      <td>1.0000</td>\n",
       "      <td>0.0000</td>\n",
       "      <td>0.0000</td>\n",
       "      <td>0.0000</td>\n",
       "      <td>0.0000</td>\n",
       "      <td>0.0000</td>\n",
       "      <td>0.0000</td>\n",
       "      <td>0.0000</td>\n",
       "      <td>0.0000</td>\n",
       "    </tr>\n",
       "    <tr>\n",
       "      <th>5</th>\n",
       "      <td>0.0000</td>\n",
       "      <td>0.0000</td>\n",
       "      <td>0.0000</td>\n",
       "      <td>0.0000</td>\n",
       "      <td>0.0000</td>\n",
       "      <td>0.0000</td>\n",
       "      <td>0.0000</td>\n",
       "      <td>4.0000</td>\n",
       "      <td>0.0000</td>\n",
       "      <td>0.0000</td>\n",
       "      <td>...</td>\n",
       "      <td>0.0000</td>\n",
       "      <td>1.0000</td>\n",
       "      <td>0.0000</td>\n",
       "      <td>13.0000</td>\n",
       "      <td>0.0000</td>\n",
       "      <td>0.0000</td>\n",
       "      <td>0.0000</td>\n",
       "      <td>0.0000</td>\n",
       "      <td>0.0000</td>\n",
       "      <td>0.0000</td>\n",
       "    </tr>\n",
       "    <tr>\n",
       "      <th>...</th>\n",
       "      <th>...</th>\n",
       "      <td>...</td>\n",
       "      <td>...</td>\n",
       "      <td>...</td>\n",
       "      <td>...</td>\n",
       "      <td>...</td>\n",
       "      <td>...</td>\n",
       "      <td>...</td>\n",
       "      <td>...</td>\n",
       "      <td>...</td>\n",
       "      <td>...</td>\n",
       "      <td>...</td>\n",
       "      <td>...</td>\n",
       "      <td>...</td>\n",
       "      <td>...</td>\n",
       "      <td>...</td>\n",
       "      <td>...</td>\n",
       "      <td>...</td>\n",
       "      <td>...</td>\n",
       "      <td>...</td>\n",
       "      <td>...</td>\n",
       "      <td>...</td>\n",
       "    </tr>\n",
       "    <tr>\n",
       "      <th rowspan=\"5\" valign=\"top\">340</th>\n",
       "      <th>313</th>\n",
       "      <td>0.0000</td>\n",
       "      <td>0.0000</td>\n",
       "      <td>0.0000</td>\n",
       "      <td>0.0000</td>\n",
       "      <td>0.0000</td>\n",
       "      <td>0.0000</td>\n",
       "      <td>0.0000</td>\n",
       "      <td>0.0000</td>\n",
       "      <td>0.0000</td>\n",
       "      <td>0.0000</td>\n",
       "      <td>...</td>\n",
       "      <td>2.0000</td>\n",
       "      <td>0.5000</td>\n",
       "      <td>6.0000</td>\n",
       "      <td>2.0000</td>\n",
       "      <td>0.7500</td>\n",
       "      <td>1.0000</td>\n",
       "      <td>2.0000</td>\n",
       "      <td>3.3333</td>\n",
       "      <td>12.0000</td>\n",
       "      <td>0.0000</td>\n",
       "    </tr>\n",
       "    <tr>\n",
       "      <th>314</th>\n",
       "      <td>0.0000</td>\n",
       "      <td>0.0000</td>\n",
       "      <td>0.0000</td>\n",
       "      <td>0.0000</td>\n",
       "      <td>0.0000</td>\n",
       "      <td>0.0000</td>\n",
       "      <td>0.0000</td>\n",
       "      <td>0.0000</td>\n",
       "      <td>0.0000</td>\n",
       "      <td>0.0000</td>\n",
       "      <td>...</td>\n",
       "      <td>0.0000</td>\n",
       "      <td>0.0000</td>\n",
       "      <td>0.0000</td>\n",
       "      <td>0.0000</td>\n",
       "      <td>0.0000</td>\n",
       "      <td>0.0000</td>\n",
       "      <td>1.0000</td>\n",
       "      <td>1.0000</td>\n",
       "      <td>0.0000</td>\n",
       "      <td>0.0000</td>\n",
       "    </tr>\n",
       "    <tr>\n",
       "      <th>315</th>\n",
       "      <td>0.0000</td>\n",
       "      <td>0.0000</td>\n",
       "      <td>0.0000</td>\n",
       "      <td>0.0000</td>\n",
       "      <td>0.0000</td>\n",
       "      <td>0.0000</td>\n",
       "      <td>0.0000</td>\n",
       "      <td>0.0000</td>\n",
       "      <td>0.0000</td>\n",
       "      <td>0.0000</td>\n",
       "      <td>...</td>\n",
       "      <td>0.0000</td>\n",
       "      <td>0.0000</td>\n",
       "      <td>0.0000</td>\n",
       "      <td>1.0000</td>\n",
       "      <td>0.0000</td>\n",
       "      <td>0.0000</td>\n",
       "      <td>0.0000</td>\n",
       "      <td>0.0000</td>\n",
       "      <td>0.0000</td>\n",
       "      <td>0.0000</td>\n",
       "    </tr>\n",
       "    <tr>\n",
       "      <th>316</th>\n",
       "      <td>1.0000</td>\n",
       "      <td>0.0000</td>\n",
       "      <td>0.0000</td>\n",
       "      <td>0.5000</td>\n",
       "      <td>0.0000</td>\n",
       "      <td>0.0000</td>\n",
       "      <td>0.0000</td>\n",
       "      <td>0.0000</td>\n",
       "      <td>0.0000</td>\n",
       "      <td>0.0000</td>\n",
       "      <td>...</td>\n",
       "      <td>0.0000</td>\n",
       "      <td>0.0000</td>\n",
       "      <td>1.0000</td>\n",
       "      <td>0.0000</td>\n",
       "      <td>0.0000</td>\n",
       "      <td>0.0000</td>\n",
       "      <td>1.0000</td>\n",
       "      <td>0.0000</td>\n",
       "      <td>0.0000</td>\n",
       "      <td>0.0000</td>\n",
       "    </tr>\n",
       "    <tr>\n",
       "      <th>317</th>\n",
       "      <td>0.0000</td>\n",
       "      <td>0.0000</td>\n",
       "      <td>0.0000</td>\n",
       "      <td>0.0000</td>\n",
       "      <td>1.0000</td>\n",
       "      <td>0.0000</td>\n",
       "      <td>0.0000</td>\n",
       "      <td>0.0000</td>\n",
       "      <td>0.0000</td>\n",
       "      <td>0.0000</td>\n",
       "      <td>...</td>\n",
       "      <td>0.0000</td>\n",
       "      <td>0.0000</td>\n",
       "      <td>0.0000</td>\n",
       "      <td>1.0000</td>\n",
       "      <td>0.0000</td>\n",
       "      <td>0.0000</td>\n",
       "      <td>0.0000</td>\n",
       "      <td>0.0000</td>\n",
       "      <td>0.0000</td>\n",
       "      <td>0.0000</td>\n",
       "    </tr>\n",
       "  </tbody>\n",
       "</table>\n",
       "<p>81879 rows × 23 columns</p>\n",
       "</div>"
      ],
      "text/plain": [
       "WeekNumber                1      2      3      4      5      6      9      10  \\\n",
       "StoreCode ProductCode                                                           \n",
       "1         1           0.0000 4.0000 0.0000 1.0000 0.0000 0.0000 0.0000 0.0000   \n",
       "          2           0.0000 0.0000 0.0000 0.0000 0.0000 1.0000 2.0000 0.0000   \n",
       "          3           0.0000 0.0000 0.0000 1.0000 1.0000 1.0000 0.0000 0.5000   \n",
       "          4           0.0000 0.0000 1.0000 1.0000 2.0000 1.0000 1.0000 0.0000   \n",
       "          5           0.0000 0.0000 0.0000 0.0000 0.0000 0.0000 0.0000 4.0000   \n",
       "...                      ...    ...    ...    ...    ...    ...    ...    ...   \n",
       "340       313         0.0000 0.0000 0.0000 0.0000 0.0000 0.0000 0.0000 0.0000   \n",
       "          314         0.0000 0.0000 0.0000 0.0000 0.0000 0.0000 0.0000 0.0000   \n",
       "          315         0.0000 0.0000 0.0000 0.0000 0.0000 0.0000 0.0000 0.0000   \n",
       "          316         1.0000 0.0000 0.0000 0.5000 0.0000 0.0000 0.0000 0.0000   \n",
       "          317         0.0000 0.0000 0.0000 0.0000 1.0000 0.0000 0.0000 0.0000   \n",
       "\n",
       "WeekNumber                13     14  ...     18     19     20      22     24  \\\n",
       "StoreCode ProductCode                ...                                       \n",
       "1         1           0.0000 0.0000  ... 1.0000 0.0000 0.0000  0.0000 0.0000   \n",
       "          2           0.0000 2.0000  ... 1.0000 1.0000 0.0000  0.0000 0.0000   \n",
       "          3           2.0000 0.0000  ... 1.0000 1.0000 0.0000  0.0000 0.0000   \n",
       "          4           0.0000 0.0000  ... 1.0000 1.0000 0.0000  0.0000 0.0000   \n",
       "          5           0.0000 0.0000  ... 0.0000 1.0000 0.0000 13.0000 0.0000   \n",
       "...                      ...    ...  ...    ...    ...    ...     ...    ...   \n",
       "340       313         0.0000 0.0000  ... 2.0000 0.5000 6.0000  2.0000 0.7500   \n",
       "          314         0.0000 0.0000  ... 0.0000 0.0000 0.0000  0.0000 0.0000   \n",
       "          315         0.0000 0.0000  ... 0.0000 0.0000 0.0000  1.0000 0.0000   \n",
       "          316         0.0000 0.0000  ... 0.0000 0.0000 1.0000  0.0000 0.0000   \n",
       "          317         0.0000 0.0000  ... 0.0000 0.0000 0.0000  1.0000 0.0000   \n",
       "\n",
       "WeekNumber                27     28     29      30     31  \n",
       "StoreCode ProductCode                                      \n",
       "1         1           0.0000 0.0000 0.0000 12.0000 0.0000  \n",
       "          2           0.0000 0.0000 0.0000  0.0000 0.0000  \n",
       "          3           0.0000 1.0000 0.0000  0.0000 0.0000  \n",
       "          4           0.0000 0.0000 0.0000  0.0000 0.0000  \n",
       "          5           0.0000 0.0000 0.0000  0.0000 0.0000  \n",
       "...                      ...    ...    ...     ...    ...  \n",
       "340       313         1.0000 2.0000 3.3333 12.0000 0.0000  \n",
       "          314         0.0000 1.0000 1.0000  0.0000 0.0000  \n",
       "          315         0.0000 0.0000 0.0000  0.0000 0.0000  \n",
       "          316         0.0000 1.0000 0.0000  0.0000 0.0000  \n",
       "          317         0.0000 0.0000 0.0000  0.0000 0.0000  \n",
       "\n",
       "[81879 rows x 23 columns]"
      ]
     },
     "execution_count": 145,
     "metadata": {},
     "output_type": "execute_result"
    }
   ],
   "source": [
    "# Find weekly mean sales for each product per store:\n",
    "pivot_weekly_mean_sales = pd.pivot_table(data=df1a_no_promotion,\n",
    "                                         values='SalesQuantity',\n",
    "                                         columns='WeekNumber',\n",
    "                                         index=['StoreCode','ProductCode'],\n",
    "                                         aggfunc='mean',\n",
    "                                         fill_value=0)\n",
    "\n",
    "pivot_weekly_mean_sales"
   ]
  },
  {
   "cell_type": "code",
   "execution_count": 146,
   "id": "89af4ecf",
   "metadata": {},
   "outputs": [],
   "source": [
    "# Set loop variables:\n",
    "unique_stores = (pivot_weekly_mean_sales.index\n",
    "                 .get_level_values(level=0)\n",
    "                 .unique())\n",
    "\n",
    "weeks = df1a_no_promotion['WeekNumber'].unique()\n",
    "\n",
    "# Define placeholders:\n",
    "df_product_performance = []\n",
    "\n",
    "# Loop all stores:\n",
    "for store_code in unique_stores:\n",
    "    \n",
    "    # Loop weeks:\n",
    "    for week_number in weeks:\n",
    "        \n",
    "        # obtain the target store_code/week_number pair:\n",
    "        temp_df = pivot_weekly_mean_sales.xs(key=store_code,\n",
    "                                             axis=0,\n",
    "                                             level='StoreCode',\n",
    "                                             drop_level=True)[week_number]\n",
    "        \n",
    "        # Generating temporary output df:\n",
    "        temp_out_df = pd.DataFrame(columns=['store_code',\n",
    "                                            'ProductCode',\n",
    "                                            'WeekNumber',\n",
    "                                            'ProductMeanSales',\n",
    "                                            'WeekAverage',\n",
    "                                            'WeekStandartDeviation',\n",
    "                                            'WeekQuantile33',\n",
    "                                            'WeekQuantile67'])\n",
    "        \n",
    "        # Mean of mean product sales for the week and store:\n",
    "        temp_mean = temp_df.mean()\n",
    "        \n",
    "        # Populating the output df:\n",
    "        temp_out_df['ProductCode'] = temp_df.reset_index()['ProductCode']\n",
    "        temp_out_df['store_code'] = store_code\n",
    "        temp_out_df['WeekNumber'] = week_number\n",
    "        temp_out_df['ProductMeanSales'] = temp_df.values\n",
    "        temp_out_df['WeekAverage'] = temp_mean\n",
    "        \n",
    "        # Add generated df to list:\n",
    "        df_product_performance.append(temp_out_df)\n",
    "        \n",
    "        # Loop continues:\n",
    "        del temp_df\n",
    "        del temp_mean\n",
    "        del temp_out_df\n",
    "        continue"
   ]
  },
  {
   "cell_type": "code",
   "execution_count": 147,
   "id": "d4af8530",
   "metadata": {},
   "outputs": [
    {
     "data": {
      "text/html": [
       "<div>\n",
       "<style scoped>\n",
       "    .dataframe tbody tr th:only-of-type {\n",
       "        vertical-align: middle;\n",
       "    }\n",
       "\n",
       "    .dataframe tbody tr th {\n",
       "        vertical-align: top;\n",
       "    }\n",
       "\n",
       "    .dataframe thead th {\n",
       "        text-align: right;\n",
       "    }\n",
       "</style>\n",
       "<table border=\"1\" class=\"dataframe\">\n",
       "  <thead>\n",
       "    <tr style=\"text-align: right;\">\n",
       "      <th></th>\n",
       "      <th>store_code</th>\n",
       "      <th>ProductCode</th>\n",
       "      <th>WeekNumber</th>\n",
       "      <th>ProductMeanSales</th>\n",
       "      <th>WeekAverage</th>\n",
       "      <th>WeekStandartDeviation</th>\n",
       "      <th>WeekQuantile33</th>\n",
       "      <th>WeekQuantile67</th>\n",
       "    </tr>\n",
       "  </thead>\n",
       "  <tbody>\n",
       "    <tr>\n",
       "      <th>0</th>\n",
       "      <td>1</td>\n",
       "      <td>1</td>\n",
       "      <td>1</td>\n",
       "      <td>0.0000</td>\n",
       "      <td>0.3327</td>\n",
       "      <td>NaN</td>\n",
       "      <td>NaN</td>\n",
       "      <td>NaN</td>\n",
       "    </tr>\n",
       "    <tr>\n",
       "      <th>1</th>\n",
       "      <td>1</td>\n",
       "      <td>2</td>\n",
       "      <td>1</td>\n",
       "      <td>0.0000</td>\n",
       "      <td>0.3327</td>\n",
       "      <td>NaN</td>\n",
       "      <td>NaN</td>\n",
       "      <td>NaN</td>\n",
       "    </tr>\n",
       "    <tr>\n",
       "      <th>2</th>\n",
       "      <td>1</td>\n",
       "      <td>3</td>\n",
       "      <td>1</td>\n",
       "      <td>0.0000</td>\n",
       "      <td>0.3327</td>\n",
       "      <td>NaN</td>\n",
       "      <td>NaN</td>\n",
       "      <td>NaN</td>\n",
       "    </tr>\n",
       "    <tr>\n",
       "      <th>3</th>\n",
       "      <td>1</td>\n",
       "      <td>4</td>\n",
       "      <td>1</td>\n",
       "      <td>0.0000</td>\n",
       "      <td>0.3327</td>\n",
       "      <td>NaN</td>\n",
       "      <td>NaN</td>\n",
       "      <td>NaN</td>\n",
       "    </tr>\n",
       "    <tr>\n",
       "      <th>4</th>\n",
       "      <td>1</td>\n",
       "      <td>5</td>\n",
       "      <td>1</td>\n",
       "      <td>0.0000</td>\n",
       "      <td>0.3327</td>\n",
       "      <td>NaN</td>\n",
       "      <td>NaN</td>\n",
       "      <td>NaN</td>\n",
       "    </tr>\n",
       "  </tbody>\n",
       "</table>\n",
       "</div>"
      ],
      "text/plain": [
       "   store_code  ProductCode  WeekNumber  ProductMeanSales  WeekAverage  \\\n",
       "0           1            1           1            0.0000       0.3327   \n",
       "1           1            2           1            0.0000       0.3327   \n",
       "2           1            3           1            0.0000       0.3327   \n",
       "3           1            4           1            0.0000       0.3327   \n",
       "4           1            5           1            0.0000       0.3327   \n",
       "\n",
       "  WeekStandartDeviation WeekQuantile33 WeekQuantile67  \n",
       "0                   NaN            NaN            NaN  \n",
       "1                   NaN            NaN            NaN  \n",
       "2                   NaN            NaN            NaN  \n",
       "3                   NaN            NaN            NaN  \n",
       "4                   NaN            NaN            NaN  "
      ]
     },
     "execution_count": 147,
     "metadata": {},
     "output_type": "execute_result"
    }
   ],
   "source": [
    "# Concat all performance dfs:\n",
    "df_product_performance = pd.concat(objs=df_product_performance)\n",
    "df_product_performance.head()"
   ]
  },
  {
   "cell_type": "code",
   "execution_count": 148,
   "id": "326d0569",
   "metadata": {},
   "outputs": [],
   "source": [
    "# Define labeling function:\n",
    "def product_clustering_algorithm(mean_sales: float,\n",
    "                                 week_mean: float) -> str:\n",
    "    \"\"\"Labels the product performace for each week\"\"\"\n",
    "    \n",
    "    # Fast item's logic:\n",
    "    if mean_sales >= week_mean:\n",
    "        return 2\n",
    "    \n",
    "    # Slow item's logic:\n",
    "    elif mean_sales <= 0:\n",
    "        return 0\n",
    "    \n",
    "    # Else in between values are average:\n",
    "    else:\n",
    "        return 1\n",
    "    \n",
    "# Vectorize product_label column:\n",
    "df_product_performance['ProductLabel'] = \\\n",
    "    (np.vectorize(pyfunc=product_clustering_algorithm)\n",
    "     (df_product_performance['ProductMeanSales'],\n",
    "      df_product_performance['WeekAverage']))"
   ]
  },
  {
   "cell_type": "code",
   "execution_count": 152,
   "id": "2e075cfa",
   "metadata": {},
   "outputs": [
    {
     "data": {
      "text/plain": [
       "WeightedProductLabel\n",
       "Slow       184\n",
       "Average    125\n",
       "Fast         7\n",
       "Name: count, dtype: int64"
      ]
     },
     "execution_count": 152,
     "metadata": {},
     "output_type": "execute_result"
    }
   ],
   "source": [
    "# Average label value per product:\n",
    "avg_label_value_product = df_product_performance[\n",
    "    ['ProductCode','ProductLabel']\n",
    "].groupby(by='ProductCode', as_index=False).mean()\n",
    "\n",
    "def weighted_label_generator(label_value: int) -> str:\n",
    "    \"\"\"Calculate weighted label value for each product.\"\"\"\n",
    "    \n",
    "    # Fast products' requirement:\n",
    "    if label_value >= 1.50:\n",
    "        return 'Fast'\n",
    "    \n",
    "    # Slow products' requirement\n",
    "    elif label_value <= 0.50:\n",
    "        return 'Slow'\n",
    "    \n",
    "    # Average products' requirement:\n",
    "    else:\n",
    "        return 'Average'\n",
    "    \n",
    "(avg_label_value_product\n",
    " ['WeightedProductLabel']) = (np.vectorize(weighted_label_generator)\n",
    "                              (avg_label_value_product['ProductLabel']))\n",
    "\n",
    "avg_label_value_product['WeightedProductLabel'].value_counts()"
   ]
  },
  {
   "cell_type": "code",
   "execution_count": 154,
   "id": "0d9fe2e5",
   "metadata": {},
   "outputs": [
    {
     "data": {
      "text/html": [
       "<div>\n",
       "<style scoped>\n",
       "    .dataframe tbody tr th:only-of-type {\n",
       "        vertical-align: middle;\n",
       "    }\n",
       "\n",
       "    .dataframe tbody tr th {\n",
       "        vertical-align: top;\n",
       "    }\n",
       "\n",
       "    .dataframe thead th {\n",
       "        text-align: right;\n",
       "    }\n",
       "</style>\n",
       "<table border=\"1\" class=\"dataframe\">\n",
       "  <thead>\n",
       "    <tr style=\"text-align: right;\">\n",
       "      <th></th>\n",
       "      <th>ProductCode</th>\n",
       "      <th>ProductLabel</th>\n",
       "      <th>WeightedProductLabel</th>\n",
       "    </tr>\n",
       "  </thead>\n",
       "  <tbody>\n",
       "    <tr>\n",
       "      <th>0</th>\n",
       "      <td>1</td>\n",
       "      <td>0.5020</td>\n",
       "      <td>Average</td>\n",
       "    </tr>\n",
       "    <tr>\n",
       "      <th>1</th>\n",
       "      <td>2</td>\n",
       "      <td>0.4460</td>\n",
       "      <td>Slow</td>\n",
       "    </tr>\n",
       "    <tr>\n",
       "      <th>2</th>\n",
       "      <td>3</td>\n",
       "      <td>0.4200</td>\n",
       "      <td>Slow</td>\n",
       "    </tr>\n",
       "    <tr>\n",
       "      <th>3</th>\n",
       "      <td>4</td>\n",
       "      <td>0.4047</td>\n",
       "      <td>Slow</td>\n",
       "    </tr>\n",
       "    <tr>\n",
       "      <th>4</th>\n",
       "      <td>5</td>\n",
       "      <td>0.4804</td>\n",
       "      <td>Slow</td>\n",
       "    </tr>\n",
       "  </tbody>\n",
       "</table>\n",
       "</div>"
      ],
      "text/plain": [
       "   ProductCode  ProductLabel WeightedProductLabel\n",
       "0            1        0.5020              Average\n",
       "1            2        0.4460                 Slow\n",
       "2            3        0.4200                 Slow\n",
       "3            4        0.4047                 Slow\n",
       "4            5        0.4804                 Slow"
      ]
     },
     "execution_count": 154,
     "metadata": {},
     "output_type": "execute_result"
    }
   ],
   "source": [
    "avg_label_value_product.head()"
   ]
  },
  {
   "cell_type": "code",
   "execution_count": 153,
   "id": "2a2b5cb7",
   "metadata": {},
   "outputs": [
    {
     "data": {
      "image/png": "[encoded data removed]",
      "text/plain": [
       "<Figure size 1440x864 with 1 Axes>"
      ]
     },
     "metadata": {},
     "output_type": "display_data"
    }
   ],
   "source": [
    "# Countplot of labels:\n",
    "plt.figure(figsize=(10, 6))\n",
    "sns.countplot(data=avg_label_value_product,\n",
    "              y='WeightedProductLabel',\n",
    "              hue='WeightedProductLabel',\n",
    "              edgecolor='k',\n",
    "              palette='Dark2')\n",
    "\n",
    "plt.title('Product Labeling Countplot')\n",
    "plt.tight_layout()\n",
    "plt.show()"
   ]
  },
  {
   "cell_type": "code",
   "execution_count": null,
   "id": "65157783",
   "metadata": {},
   "outputs": [],
   "source": []
  }
 ],
 "metadata": {
  "kernelspec": {
   "display_name": "ISL",
   "language": "python",
   "name": "isl"
  },
  "language_info": {
   "codemirror_mode": {
    "name": "ipython",
    "version": 3
   },
   "file_extension": ".py",
   "mimetype": "text/x-python",
   "name": "python",
   "nbconvert_exporter": "python",
   "pygments_lexer": "ipython3",
   "version": "3.10.12"
  }
 },
 "nbformat": 4,
 "nbformat_minor": 5
}
