{
 "cells": [
  {
   "cell_type": "markdown",
   "id": "ce6d9880-a324-412d-ba1f-2808c27b5922",
   "metadata": {},
   "source": [
    "# **EXTRA ANALYSIS FOR PRESENTATION**"
   ]
  },
  {
   "cell_type": "code",
   "execution_count": 1,
   "id": "a6eb62c4-1ed1-474e-b85a-a60794e5de6e",
   "metadata": {
    "execution": {
     "iopub.execute_input": "2024-10-14T09:50:29.450674Z",
     "iopub.status.busy": "2024-10-14T09:50:29.450139Z",
     "iopub.status.idle": "2024-10-14T09:50:30.963525Z",
     "shell.execute_reply": "2024-10-14T09:50:30.962992Z",
     "shell.execute_reply.started": "2024-10-14T09:50:29.450617Z"
    }
   },
   "outputs": [],
   "source": [
    "# Imports:\n",
    "import numpy as np\n",
    "import pandas as pd\n",
    "import matplotlib.pyplot as plt\n",
    "import seaborn as sns\n",
    "import warnings\n",
    "\n",
    "# Ignone harmless warnings:\n",
    "warnings.filterwarnings('ignore')\n",
    "\n",
    "# Round float columns to 4 decimal places:\n",
    "pd.options.display.float_format = '{:.4f}'.format\n",
    "\n",
    "# Plot rcParams:\n",
    "plt.rcParams['figure.figsize'] = (15, 7)\n",
    "plt.rcParams['figure.dpi'] = 144\n",
    "plt.rcParams['figure.titlesize'] = 22\n",
    "plt.rcParams['figure.titleweight'] = 'bold'\n",
    "plt.rcParams['axes.titlesize'] = 22\n",
    "plt.rcParams['axes.titleweight'] = 'bold'\n",
    "plt.style.use('seaborn-v0_8')"
   ]
  },
  {
   "cell_type": "code",
   "execution_count": null,
   "id": "60b3c9ef-c64d-4ac0-87aa-22bde18d187d",
   "metadata": {},
   "outputs": [],
   "source": []
  }
 ],
 "metadata": {
  "kernelspec": {
   "display_name": "ISL",
   "language": "python",
   "name": "isl"
  },
  "language_info": {
   "codemirror_mode": {
    "name": "ipython",
    "version": 3
   },
   "file_extension": ".py",
   "mimetype": "text/x-python",
   "name": "python",
   "nbconvert_exporter": "python",
   "pygments_lexer": "ipython3",
   "version": "3.10.12"
  }
 },
 "nbformat": 4,
 "nbformat_minor": 5
}
